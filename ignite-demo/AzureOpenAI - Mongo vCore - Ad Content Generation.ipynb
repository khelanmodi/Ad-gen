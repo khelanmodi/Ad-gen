{
 "cells": [
  {
   "cell_type": "markdown",
   "metadata": {},
   "source": [
    "# Introduction\n",
    "\n",
    "Today we will demonstrate how you can generate advertizing content for your inventory to boost sales. We'll do this taking advantage of Azure Cosmos DB for Mongo DB vCore's [vector similarity search](https://learn.microsoft.com/azure/cosmos-db/mongodb/vcore/vector-search) functionality. We will use OpenAI embeddings to generate vectors for inventory description which expected to vastly enhance its semantics. The vectors are then stored and indexed in the Mongo vCore Database. During the content generation for the advertisement time we will also vectorize the advertisement topic and find matching inventory itmes. We will then use retrival augmented generation (RAG) by sending to top matches to OpenAI to generate a catchy advertisement."
   ]
  },
  {
   "cell_type": "markdown",
   "metadata": {},
   "source": [
    "# Scenario\n",
    "\n",
    "1. Shoe Retailer who wants to sell more shoes \n",
    "2. Wants to run advertisement to capitalize on recent trends\n",
    "2. Wants to use generate advertisement content using the inventory items that matches the trend"
   ]
  },
  {
   "cell_type": "markdown",
   "metadata": {},
   "source": [
    "## Azure OpenAI <a class=\"anchor\" id=\"azureopenai\"></a>\n",
    "\n",
    "Finally, let's setup our Azure OpenAI resource Currently, access to this service is granted only by application. You can apply for access to Azure OpenAI by completing the form at https://aka.ms/oai/access. Once you have access, complete the following steps:\n",
    "\n",
    "- Create an Azure OpenAI resource following this quickstart: https://learn.microsoft.com/azure/ai-services/openai/how-to/create-resource?pivots=web-portal\n",
    "- Deploy a `completions` and `embeddings` model \n",
    "    - For more information on `completions`, go here: https://learn.microsoft.com/azure/ai-services/openai/how-to/completions\n",
    "    - For more information on `embeddings`, go here: https://learn.microsoft.com/azure/ai-services/openai/how-to/embeddings\n",
    "- Copy the endpoint, key, deployment names for (embeddings model, completions model) into the config.json file."
   ]
  },
  {
   "cell_type": "markdown",
   "metadata": {},
   "source": [
    "## Create an Azure Cosmos DB for MongoDB vCore resource<a class=\"anchor\" id=\"cosmosdb\"></a>\n",
    "Let's start by creating an Azure Cosmos DB for MongoDB vCore Resource following this quick start guide: https://learn.microsoft.com/en-us/azure/cosmos-db/mongodb/vcore/quickstart-portal\n",
    "\n",
    "Then copy the connection details (server, user, pwd) into the environment file."
   ]
  },
  {
   "cell_type": "markdown",
   "metadata": {},
   "source": [
    "# Preliminaries <a class=\"anchor\" id=\"preliminaries\"></a>\n",
    "First, let's start by installing the packages that we'll need later. "
   ]
  },
  {
   "cell_type": "code",
   "execution_count": 1,
   "metadata": {},
   "outputs": [
    {
     "name": "stdout",
     "output_type": "stream",
     "text": [
      "Requirement already satisfied: numpy in c:\\users\\khelan modi\\appdata\\local\\packages\\pythonsoftwarefoundation.python.3.11_qbz5n2kfra8p0\\localcache\\local-packages\\python311\\site-packages (1.26.1)\n"
     ]
    },
    {
     "name": "stderr",
     "output_type": "stream",
     "text": [
      "\n",
      "[notice] A new release of pip is available: 23.3.1 -> 24.0\n",
      "[notice] To update, run: C:\\Users\\Khelan Modi\\AppData\\Local\\Microsoft\\WindowsApps\\PythonSoftwareFoundation.Python.3.11_qbz5n2kfra8p0\\python.exe -m pip install --upgrade pip\n"
     ]
    },
    {
     "name": "stdout",
     "output_type": "stream",
     "text": [
      "Requirement already satisfied: openai==1.2.3 in c:\\users\\khelan modi\\appdata\\local\\packages\\pythonsoftwarefoundation.python.3.11_qbz5n2kfra8p0\\localcache\\local-packages\\python311\\site-packages (1.2.3)\n",
      "Requirement already satisfied: anyio<4,>=3.5.0 in c:\\users\\khelan modi\\appdata\\local\\packages\\pythonsoftwarefoundation.python.3.11_qbz5n2kfra8p0\\localcache\\local-packages\\python311\\site-packages (from openai==1.2.3) (3.7.1)\n",
      "Requirement already satisfied: distro<2,>=1.7.0 in c:\\users\\khelan modi\\appdata\\local\\packages\\pythonsoftwarefoundation.python.3.11_qbz5n2kfra8p0\\localcache\\local-packages\\python311\\site-packages (from openai==1.2.3) (1.9.0)\n",
      "Requirement already satisfied: httpx<1,>=0.23.0 in c:\\users\\khelan modi\\appdata\\local\\packages\\pythonsoftwarefoundation.python.3.11_qbz5n2kfra8p0\\localcache\\local-packages\\python311\\site-packages (from openai==1.2.3) (0.26.0)\n",
      "Requirement already satisfied: pydantic<3,>=1.9.0 in c:\\users\\khelan modi\\appdata\\local\\packages\\pythonsoftwarefoundation.python.3.11_qbz5n2kfra8p0\\localcache\\local-packages\\python311\\site-packages (from openai==1.2.3) (2.5.3)\n",
      "Requirement already satisfied: tqdm>4 in c:\\users\\khelan modi\\appdata\\local\\packages\\pythonsoftwarefoundation.python.3.11_qbz5n2kfra8p0\\localcache\\local-packages\\python311\\site-packages (from openai==1.2.3) (4.66.1)\n",
      "Requirement already satisfied: typing-extensions<5,>=4.5 in c:\\users\\khelan modi\\appdata\\local\\packages\\pythonsoftwarefoundation.python.3.11_qbz5n2kfra8p0\\localcache\\local-packages\\python311\\site-packages (from openai==1.2.3) (4.8.0)\n",
      "Requirement already satisfied: idna>=2.8 in c:\\users\\khelan modi\\appdata\\local\\packages\\pythonsoftwarefoundation.python.3.11_qbz5n2kfra8p0\\localcache\\local-packages\\python311\\site-packages (from anyio<4,>=3.5.0->openai==1.2.3) (3.4)\n",
      "Requirement already satisfied: sniffio>=1.1 in c:\\users\\khelan modi\\appdata\\local\\packages\\pythonsoftwarefoundation.python.3.11_qbz5n2kfra8p0\\localcache\\local-packages\\python311\\site-packages (from anyio<4,>=3.5.0->openai==1.2.3) (1.3.0)\n",
      "Requirement already satisfied: certifi in c:\\users\\khelan modi\\appdata\\local\\packages\\pythonsoftwarefoundation.python.3.11_qbz5n2kfra8p0\\localcache\\local-packages\\python311\\site-packages (from httpx<1,>=0.23.0->openai==1.2.3) (2023.7.22)\n",
      "Requirement already satisfied: httpcore==1.* in c:\\users\\khelan modi\\appdata\\local\\packages\\pythonsoftwarefoundation.python.3.11_qbz5n2kfra8p0\\localcache\\local-packages\\python311\\site-packages (from httpx<1,>=0.23.0->openai==1.2.3) (1.0.2)\n",
      "Requirement already satisfied: h11<0.15,>=0.13 in c:\\users\\khelan modi\\appdata\\local\\packages\\pythonsoftwarefoundation.python.3.11_qbz5n2kfra8p0\\localcache\\local-packages\\python311\\site-packages (from httpcore==1.*->httpx<1,>=0.23.0->openai==1.2.3) (0.14.0)\n",
      "Requirement already satisfied: annotated-types>=0.4.0 in c:\\users\\khelan modi\\appdata\\local\\packages\\pythonsoftwarefoundation.python.3.11_qbz5n2kfra8p0\\localcache\\local-packages\\python311\\site-packages (from pydantic<3,>=1.9.0->openai==1.2.3) (0.6.0)\n",
      "Requirement already satisfied: pydantic-core==2.14.6 in c:\\users\\khelan modi\\appdata\\local\\packages\\pythonsoftwarefoundation.python.3.11_qbz5n2kfra8p0\\localcache\\local-packages\\python311\\site-packages (from pydantic<3,>=1.9.0->openai==1.2.3) (2.14.6)\n",
      "Requirement already satisfied: colorama in c:\\users\\khelan modi\\appdata\\local\\packages\\pythonsoftwarefoundation.python.3.11_qbz5n2kfra8p0\\localcache\\local-packages\\python311\\site-packages (from tqdm>4->openai==1.2.3) (0.4.6)\n"
     ]
    },
    {
     "name": "stderr",
     "output_type": "stream",
     "text": [
      "\n",
      "[notice] A new release of pip is available: 23.3.1 -> 24.0\n",
      "[notice] To update, run: C:\\Users\\Khelan Modi\\AppData\\Local\\Microsoft\\WindowsApps\\PythonSoftwareFoundation.Python.3.11_qbz5n2kfra8p0\\python.exe -m pip install --upgrade pip\n"
     ]
    },
    {
     "name": "stdout",
     "output_type": "stream",
     "text": [
      "Requirement already satisfied: pymongo in c:\\users\\khelan modi\\appdata\\local\\packages\\pythonsoftwarefoundation.python.3.11_qbz5n2kfra8p0\\localcache\\local-packages\\python311\\site-packages (4.5.0)\n",
      "Requirement already satisfied: dnspython<3.0.0,>=1.16.0 in c:\\users\\khelan modi\\appdata\\local\\packages\\pythonsoftwarefoundation.python.3.11_qbz5n2kfra8p0\\localcache\\local-packages\\python311\\site-packages (from pymongo) (2.4.2)\n"
     ]
    },
    {
     "name": "stderr",
     "output_type": "stream",
     "text": [
      "\n",
      "[notice] A new release of pip is available: 23.3.1 -> 24.0\n",
      "[notice] To update, run: C:\\Users\\Khelan Modi\\AppData\\Local\\Microsoft\\WindowsApps\\PythonSoftwareFoundation.Python.3.11_qbz5n2kfra8p0\\python.exe -m pip install --upgrade pip\n"
     ]
    },
    {
     "name": "stdout",
     "output_type": "stream",
     "text": [
      "Requirement already satisfied: python-dotenv in c:\\users\\khelan modi\\appdata\\local\\packages\\pythonsoftwarefoundation.python.3.11_qbz5n2kfra8p0\\localcache\\local-packages\\python311\\site-packages (1.0.0)\n"
     ]
    },
    {
     "name": "stderr",
     "output_type": "stream",
     "text": [
      "\n",
      "[notice] A new release of pip is available: 23.3.1 -> 24.0\n",
      "[notice] To update, run: C:\\Users\\Khelan Modi\\AppData\\Local\\Microsoft\\WindowsApps\\PythonSoftwareFoundation.Python.3.11_qbz5n2kfra8p0\\python.exe -m pip install --upgrade pip\n"
     ]
    },
    {
     "name": "stdout",
     "output_type": "stream",
     "text": [
      "Requirement already satisfied: azure-core in c:\\users\\khelan modi\\appdata\\local\\packages\\pythonsoftwarefoundation.python.3.11_qbz5n2kfra8p0\\localcache\\local-packages\\python311\\site-packages (1.29.5)\n",
      "Requirement already satisfied: requests>=2.18.4 in c:\\users\\khelan modi\\appdata\\local\\packages\\pythonsoftwarefoundation.python.3.11_qbz5n2kfra8p0\\localcache\\local-packages\\python311\\site-packages (from azure-core) (2.31.0)\n",
      "Requirement already satisfied: six>=1.11.0 in c:\\users\\khelan modi\\appdata\\local\\packages\\pythonsoftwarefoundation.python.3.11_qbz5n2kfra8p0\\localcache\\local-packages\\python311\\site-packages (from azure-core) (1.16.0)\n",
      "Requirement already satisfied: typing-extensions>=4.6.0 in c:\\users\\khelan modi\\appdata\\local\\packages\\pythonsoftwarefoundation.python.3.11_qbz5n2kfra8p0\\localcache\\local-packages\\python311\\site-packages (from azure-core) (4.8.0)\n",
      "Requirement already satisfied: charset-normalizer<4,>=2 in c:\\users\\khelan modi\\appdata\\local\\packages\\pythonsoftwarefoundation.python.3.11_qbz5n2kfra8p0\\localcache\\local-packages\\python311\\site-packages (from requests>=2.18.4->azure-core) (3.3.1)\n",
      "Requirement already satisfied: idna<4,>=2.5 in c:\\users\\khelan modi\\appdata\\local\\packages\\pythonsoftwarefoundation.python.3.11_qbz5n2kfra8p0\\localcache\\local-packages\\python311\\site-packages (from requests>=2.18.4->azure-core) (3.4)\n",
      "Requirement already satisfied: urllib3<3,>=1.21.1 in c:\\users\\khelan modi\\appdata\\local\\packages\\pythonsoftwarefoundation.python.3.11_qbz5n2kfra8p0\\localcache\\local-packages\\python311\\site-packages (from requests>=2.18.4->azure-core) (2.0.7)\n",
      "Requirement already satisfied: certifi>=2017.4.17 in c:\\users\\khelan modi\\appdata\\local\\packages\\pythonsoftwarefoundation.python.3.11_qbz5n2kfra8p0\\localcache\\local-packages\\python311\\site-packages (from requests>=2.18.4->azure-core) (2023.7.22)\n"
     ]
    },
    {
     "name": "stderr",
     "output_type": "stream",
     "text": [
      "\n",
      "[notice] A new release of pip is available: 23.3.1 -> 24.0\n",
      "[notice] To update, run: C:\\Users\\Khelan Modi\\AppData\\Local\\Microsoft\\WindowsApps\\PythonSoftwareFoundation.Python.3.11_qbz5n2kfra8p0\\python.exe -m pip install --upgrade pip\n"
     ]
    },
    {
     "name": "stdout",
     "output_type": "stream",
     "text": [
      "Requirement already satisfied: azure-cosmos in c:\\users\\khelan modi\\appdata\\local\\packages\\pythonsoftwarefoundation.python.3.11_qbz5n2kfra8p0\\localcache\\local-packages\\python311\\site-packages (4.5.1)\n",
      "Requirement already satisfied: azure-core<2.0.0,>=1.23.0 in c:\\users\\khelan modi\\appdata\\local\\packages\\pythonsoftwarefoundation.python.3.11_qbz5n2kfra8p0\\localcache\\local-packages\\python311\\site-packages (from azure-cosmos) (1.29.5)\n",
      "Requirement already satisfied: requests>=2.18.4 in c:\\users\\khelan modi\\appdata\\local\\packages\\pythonsoftwarefoundation.python.3.11_qbz5n2kfra8p0\\localcache\\local-packages\\python311\\site-packages (from azure-core<2.0.0,>=1.23.0->azure-cosmos) (2.31.0)\n",
      "Requirement already satisfied: six>=1.11.0 in c:\\users\\khelan modi\\appdata\\local\\packages\\pythonsoftwarefoundation.python.3.11_qbz5n2kfra8p0\\localcache\\local-packages\\python311\\site-packages (from azure-core<2.0.0,>=1.23.0->azure-cosmos) (1.16.0)\n",
      "Requirement already satisfied: typing-extensions>=4.6.0 in c:\\users\\khelan modi\\appdata\\local\\packages\\pythonsoftwarefoundation.python.3.11_qbz5n2kfra8p0\\localcache\\local-packages\\python311\\site-packages (from azure-core<2.0.0,>=1.23.0->azure-cosmos) (4.8.0)\n",
      "Requirement already satisfied: charset-normalizer<4,>=2 in c:\\users\\khelan modi\\appdata\\local\\packages\\pythonsoftwarefoundation.python.3.11_qbz5n2kfra8p0\\localcache\\local-packages\\python311\\site-packages (from requests>=2.18.4->azure-core<2.0.0,>=1.23.0->azure-cosmos) (3.3.1)\n",
      "Requirement already satisfied: idna<4,>=2.5 in c:\\users\\khelan modi\\appdata\\local\\packages\\pythonsoftwarefoundation.python.3.11_qbz5n2kfra8p0\\localcache\\local-packages\\python311\\site-packages (from requests>=2.18.4->azure-core<2.0.0,>=1.23.0->azure-cosmos) (3.4)\n",
      "Requirement already satisfied: urllib3<3,>=1.21.1 in c:\\users\\khelan modi\\appdata\\local\\packages\\pythonsoftwarefoundation.python.3.11_qbz5n2kfra8p0\\localcache\\local-packages\\python311\\site-packages (from requests>=2.18.4->azure-core<2.0.0,>=1.23.0->azure-cosmos) (2.0.7)\n",
      "Requirement already satisfied: certifi>=2017.4.17 in c:\\users\\khelan modi\\appdata\\local\\packages\\pythonsoftwarefoundation.python.3.11_qbz5n2kfra8p0\\localcache\\local-packages\\python311\\site-packages (from requests>=2.18.4->azure-core<2.0.0,>=1.23.0->azure-cosmos) (2023.7.22)\n"
     ]
    },
    {
     "name": "stderr",
     "output_type": "stream",
     "text": [
      "\n",
      "[notice] A new release of pip is available: 23.3.1 -> 24.0\n",
      "[notice] To update, run: C:\\Users\\Khelan Modi\\AppData\\Local\\Microsoft\\WindowsApps\\PythonSoftwareFoundation.Python.3.11_qbz5n2kfra8p0\\python.exe -m pip install --upgrade pip\n"
     ]
    },
    {
     "name": "stdout",
     "output_type": "stream",
     "text": [
      "Requirement already satisfied: tenacity in c:\\users\\khelan modi\\appdata\\local\\packages\\pythonsoftwarefoundation.python.3.11_qbz5n2kfra8p0\\localcache\\local-packages\\python311\\site-packages (8.2.3)\n"
     ]
    },
    {
     "name": "stderr",
     "output_type": "stream",
     "text": [
      "\n",
      "[notice] A new release of pip is available: 23.3.1 -> 24.0\n",
      "[notice] To update, run: C:\\Users\\Khelan Modi\\AppData\\Local\\Microsoft\\WindowsApps\\PythonSoftwareFoundation.Python.3.11_qbz5n2kfra8p0\\python.exe -m pip install --upgrade pip\n"
     ]
    },
    {
     "name": "stdout",
     "output_type": "stream",
     "text": [
      "Requirement already satisfied: gradio in c:\\users\\khelan modi\\appdata\\local\\packages\\pythonsoftwarefoundation.python.3.11_qbz5n2kfra8p0\\localcache\\local-packages\\python311\\site-packages (4.14.0)\n",
      "Requirement already satisfied: aiofiles<24.0,>=22.0 in c:\\users\\khelan modi\\appdata\\local\\packages\\pythonsoftwarefoundation.python.3.11_qbz5n2kfra8p0\\localcache\\local-packages\\python311\\site-packages (from gradio) (23.2.1)\n",
      "Requirement already satisfied: altair<6.0,>=4.2.0 in c:\\users\\khelan modi\\appdata\\local\\packages\\pythonsoftwarefoundation.python.3.11_qbz5n2kfra8p0\\localcache\\local-packages\\python311\\site-packages (from gradio) (5.2.0)\n",
      "Requirement already satisfied: fastapi in c:\\users\\khelan modi\\appdata\\local\\packages\\pythonsoftwarefoundation.python.3.11_qbz5n2kfra8p0\\localcache\\local-packages\\python311\\site-packages (from gradio) (0.108.0)\n",
      "Requirement already satisfied: ffmpy in c:\\users\\khelan modi\\appdata\\local\\packages\\pythonsoftwarefoundation.python.3.11_qbz5n2kfra8p0\\localcache\\local-packages\\python311\\site-packages (from gradio) (0.3.1)\n",
      "Requirement already satisfied: gradio-client==0.8.0 in c:\\users\\khelan modi\\appdata\\local\\packages\\pythonsoftwarefoundation.python.3.11_qbz5n2kfra8p0\\localcache\\local-packages\\python311\\site-packages (from gradio) (0.8.0)\n",
      "Requirement already satisfied: httpx in c:\\users\\khelan modi\\appdata\\local\\packages\\pythonsoftwarefoundation.python.3.11_qbz5n2kfra8p0\\localcache\\local-packages\\python311\\site-packages (from gradio) (0.26.0)\n",
      "Requirement already satisfied: huggingface-hub>=0.19.3 in c:\\users\\khelan modi\\appdata\\local\\packages\\pythonsoftwarefoundation.python.3.11_qbz5n2kfra8p0\\localcache\\local-packages\\python311\\site-packages (from gradio) (0.20.2)\n",
      "Requirement already satisfied: importlib-resources<7.0,>=1.3 in c:\\users\\khelan modi\\appdata\\local\\packages\\pythonsoftwarefoundation.python.3.11_qbz5n2kfra8p0\\localcache\\local-packages\\python311\\site-packages (from gradio) (6.1.1)\n",
      "Requirement already satisfied: jinja2<4.0 in c:\\users\\khelan modi\\appdata\\local\\packages\\pythonsoftwarefoundation.python.3.11_qbz5n2kfra8p0\\localcache\\local-packages\\python311\\site-packages (from gradio) (3.1.2)\n",
      "Requirement already satisfied: markupsafe~=2.0 in c:\\users\\khelan modi\\appdata\\local\\packages\\pythonsoftwarefoundation.python.3.11_qbz5n2kfra8p0\\localcache\\local-packages\\python311\\site-packages (from gradio) (2.1.3)\n",
      "Requirement already satisfied: matplotlib~=3.0 in c:\\users\\khelan modi\\appdata\\local\\packages\\pythonsoftwarefoundation.python.3.11_qbz5n2kfra8p0\\localcache\\local-packages\\python311\\site-packages (from gradio) (3.8.2)\n",
      "Requirement already satisfied: numpy~=1.0 in c:\\users\\khelan modi\\appdata\\local\\packages\\pythonsoftwarefoundation.python.3.11_qbz5n2kfra8p0\\localcache\\local-packages\\python311\\site-packages (from gradio) (1.26.1)\n",
      "Requirement already satisfied: orjson~=3.0 in c:\\users\\khelan modi\\appdata\\local\\packages\\pythonsoftwarefoundation.python.3.11_qbz5n2kfra8p0\\localcache\\local-packages\\python311\\site-packages (from gradio) (3.9.10)\n",
      "Requirement already satisfied: packaging in c:\\users\\khelan modi\\appdata\\local\\packages\\pythonsoftwarefoundation.python.3.11_qbz5n2kfra8p0\\localcache\\local-packages\\python311\\site-packages (from gradio) (23.2)\n",
      "Requirement already satisfied: pandas<3.0,>=1.0 in c:\\users\\khelan modi\\appdata\\local\\packages\\pythonsoftwarefoundation.python.3.11_qbz5n2kfra8p0\\localcache\\local-packages\\python311\\site-packages (from gradio) (2.1.4)\n",
      "Requirement already satisfied: pillow<11.0,>=8.0 in c:\\users\\khelan modi\\appdata\\local\\packages\\pythonsoftwarefoundation.python.3.11_qbz5n2kfra8p0\\localcache\\local-packages\\python311\\site-packages (from gradio) (10.2.0)\n",
      "Requirement already satisfied: pydantic>=2.0 in c:\\users\\khelan modi\\appdata\\local\\packages\\pythonsoftwarefoundation.python.3.11_qbz5n2kfra8p0\\localcache\\local-packages\\python311\\site-packages (from gradio) (2.5.3)\n",
      "Requirement already satisfied: pydub in c:\\users\\khelan modi\\appdata\\local\\packages\\pythonsoftwarefoundation.python.3.11_qbz5n2kfra8p0\\localcache\\local-packages\\python311\\site-packages (from gradio) (0.25.1)\n",
      "Requirement already satisfied: python-multipart in c:\\users\\khelan modi\\appdata\\local\\packages\\pythonsoftwarefoundation.python.3.11_qbz5n2kfra8p0\\localcache\\local-packages\\python311\\site-packages (from gradio) (0.0.6)\n",
      "Requirement already satisfied: pyyaml<7.0,>=5.0 in c:\\users\\khelan modi\\appdata\\local\\packages\\pythonsoftwarefoundation.python.3.11_qbz5n2kfra8p0\\localcache\\local-packages\\python311\\site-packages (from gradio) (6.0.1)\n",
      "Requirement already satisfied: semantic-version~=2.0 in c:\\users\\khelan modi\\appdata\\local\\packages\\pythonsoftwarefoundation.python.3.11_qbz5n2kfra8p0\\localcache\\local-packages\\python311\\site-packages (from gradio) (2.10.0)\n",
      "Requirement already satisfied: tomlkit==0.12.0 in c:\\users\\khelan modi\\appdata\\local\\packages\\pythonsoftwarefoundation.python.3.11_qbz5n2kfra8p0\\localcache\\local-packages\\python311\\site-packages (from gradio) (0.12.0)\n",
      "Requirement already satisfied: typer<1.0,>=0.9 in c:\\users\\khelan modi\\appdata\\local\\packages\\pythonsoftwarefoundation.python.3.11_qbz5n2kfra8p0\\localcache\\local-packages\\python311\\site-packages (from typer[all]<1.0,>=0.9->gradio) (0.9.0)\n",
      "Requirement already satisfied: typing-extensions~=4.0 in c:\\users\\khelan modi\\appdata\\local\\packages\\pythonsoftwarefoundation.python.3.11_qbz5n2kfra8p0\\localcache\\local-packages\\python311\\site-packages (from gradio) (4.8.0)\n",
      "Requirement already satisfied: uvicorn>=0.14.0 in c:\\users\\khelan modi\\appdata\\local\\packages\\pythonsoftwarefoundation.python.3.11_qbz5n2kfra8p0\\localcache\\local-packages\\python311\\site-packages (from gradio) (0.25.0)\n",
      "Requirement already satisfied: fsspec in c:\\users\\khelan modi\\appdata\\local\\packages\\pythonsoftwarefoundation.python.3.11_qbz5n2kfra8p0\\localcache\\local-packages\\python311\\site-packages (from gradio-client==0.8.0->gradio) (2023.12.2)\n",
      "Requirement already satisfied: websockets<12.0,>=10.0 in c:\\users\\khelan modi\\appdata\\local\\packages\\pythonsoftwarefoundation.python.3.11_qbz5n2kfra8p0\\localcache\\local-packages\\python311\\site-packages (from gradio-client==0.8.0->gradio) (11.0.3)\n",
      "Requirement already satisfied: jsonschema>=3.0 in c:\\users\\khelan modi\\appdata\\local\\packages\\pythonsoftwarefoundation.python.3.11_qbz5n2kfra8p0\\localcache\\local-packages\\python311\\site-packages (from altair<6.0,>=4.2.0->gradio) (4.19.2)\n",
      "Requirement already satisfied: toolz in c:\\users\\khelan modi\\appdata\\local\\packages\\pythonsoftwarefoundation.python.3.11_qbz5n2kfra8p0\\localcache\\local-packages\\python311\\site-packages (from altair<6.0,>=4.2.0->gradio) (0.12.0)\n",
      "Requirement already satisfied: filelock in c:\\users\\khelan modi\\appdata\\local\\packages\\pythonsoftwarefoundation.python.3.11_qbz5n2kfra8p0\\localcache\\local-packages\\python311\\site-packages (from huggingface-hub>=0.19.3->gradio) (3.13.1)\n",
      "Requirement already satisfied: requests in c:\\users\\khelan modi\\appdata\\local\\packages\\pythonsoftwarefoundation.python.3.11_qbz5n2kfra8p0\\localcache\\local-packages\\python311\\site-packages (from huggingface-hub>=0.19.3->gradio) (2.31.0)\n",
      "Requirement already satisfied: tqdm>=4.42.1 in c:\\users\\khelan modi\\appdata\\local\\packages\\pythonsoftwarefoundation.python.3.11_qbz5n2kfra8p0\\localcache\\local-packages\\python311\\site-packages (from huggingface-hub>=0.19.3->gradio) (4.66.1)\n",
      "Requirement already satisfied: contourpy>=1.0.1 in c:\\users\\khelan modi\\appdata\\local\\packages\\pythonsoftwarefoundation.python.3.11_qbz5n2kfra8p0\\localcache\\local-packages\\python311\\site-packages (from matplotlib~=3.0->gradio) (1.2.0)\n",
      "Requirement already satisfied: cycler>=0.10 in c:\\users\\khelan modi\\appdata\\local\\packages\\pythonsoftwarefoundation.python.3.11_qbz5n2kfra8p0\\localcache\\local-packages\\python311\\site-packages (from matplotlib~=3.0->gradio) (0.12.1)\n",
      "Requirement already satisfied: fonttools>=4.22.0 in c:\\users\\khelan modi\\appdata\\local\\packages\\pythonsoftwarefoundation.python.3.11_qbz5n2kfra8p0\\localcache\\local-packages\\python311\\site-packages (from matplotlib~=3.0->gradio) (4.47.0)\n",
      "Requirement already satisfied: kiwisolver>=1.3.1 in c:\\users\\khelan modi\\appdata\\local\\packages\\pythonsoftwarefoundation.python.3.11_qbz5n2kfra8p0\\localcache\\local-packages\\python311\\site-packages (from matplotlib~=3.0->gradio) (1.4.5)\n",
      "Requirement already satisfied: pyparsing>=2.3.1 in c:\\users\\khelan modi\\appdata\\local\\packages\\pythonsoftwarefoundation.python.3.11_qbz5n2kfra8p0\\localcache\\local-packages\\python311\\site-packages (from matplotlib~=3.0->gradio) (3.1.1)\n",
      "Requirement already satisfied: python-dateutil>=2.7 in c:\\users\\khelan modi\\appdata\\local\\packages\\pythonsoftwarefoundation.python.3.11_qbz5n2kfra8p0\\localcache\\local-packages\\python311\\site-packages (from matplotlib~=3.0->gradio) (2.8.2)\n",
      "Requirement already satisfied: pytz>=2020.1 in c:\\users\\khelan modi\\appdata\\local\\packages\\pythonsoftwarefoundation.python.3.11_qbz5n2kfra8p0\\localcache\\local-packages\\python311\\site-packages (from pandas<3.0,>=1.0->gradio) (2023.3.post1)\n",
      "Requirement already satisfied: tzdata>=2022.1 in c:\\users\\khelan modi\\appdata\\local\\packages\\pythonsoftwarefoundation.python.3.11_qbz5n2kfra8p0\\localcache\\local-packages\\python311\\site-packages (from pandas<3.0,>=1.0->gradio) (2023.4)\n",
      "Requirement already satisfied: annotated-types>=0.4.0 in c:\\users\\khelan modi\\appdata\\local\\packages\\pythonsoftwarefoundation.python.3.11_qbz5n2kfra8p0\\localcache\\local-packages\\python311\\site-packages (from pydantic>=2.0->gradio) (0.6.0)\n",
      "Requirement already satisfied: pydantic-core==2.14.6 in c:\\users\\khelan modi\\appdata\\local\\packages\\pythonsoftwarefoundation.python.3.11_qbz5n2kfra8p0\\localcache\\local-packages\\python311\\site-packages (from pydantic>=2.0->gradio) (2.14.6)\n",
      "Requirement already satisfied: click<9.0.0,>=7.1.1 in c:\\users\\khelan modi\\appdata\\local\\packages\\pythonsoftwarefoundation.python.3.11_qbz5n2kfra8p0\\localcache\\local-packages\\python311\\site-packages (from typer<1.0,>=0.9->typer[all]<1.0,>=0.9->gradio) (8.1.7)\n",
      "Requirement already satisfied: colorama<0.5.0,>=0.4.3 in c:\\users\\khelan modi\\appdata\\local\\packages\\pythonsoftwarefoundation.python.3.11_qbz5n2kfra8p0\\localcache\\local-packages\\python311\\site-packages (from typer[all]<1.0,>=0.9->gradio) (0.4.6)\n",
      "Requirement already satisfied: shellingham<2.0.0,>=1.3.0 in c:\\users\\khelan modi\\appdata\\local\\packages\\pythonsoftwarefoundation.python.3.11_qbz5n2kfra8p0\\localcache\\local-packages\\python311\\site-packages (from typer[all]<1.0,>=0.9->gradio) (1.5.4)\n",
      "Requirement already satisfied: rich<14.0.0,>=10.11.0 in c:\\users\\khelan modi\\appdata\\local\\packages\\pythonsoftwarefoundation.python.3.11_qbz5n2kfra8p0\\localcache\\local-packages\\python311\\site-packages (from typer[all]<1.0,>=0.9->gradio) (13.7.0)\n",
      "Requirement already satisfied: h11>=0.8 in c:\\users\\khelan modi\\appdata\\local\\packages\\pythonsoftwarefoundation.python.3.11_qbz5n2kfra8p0\\localcache\\local-packages\\python311\\site-packages (from uvicorn>=0.14.0->gradio) (0.14.0)\n",
      "Requirement already satisfied: starlette<0.33.0,>=0.29.0 in c:\\users\\khelan modi\\appdata\\local\\packages\\pythonsoftwarefoundation.python.3.11_qbz5n2kfra8p0\\localcache\\local-packages\\python311\\site-packages (from fastapi->gradio) (0.32.0.post1)\n",
      "Requirement already satisfied: anyio in c:\\users\\khelan modi\\appdata\\local\\packages\\pythonsoftwarefoundation.python.3.11_qbz5n2kfra8p0\\localcache\\local-packages\\python311\\site-packages (from httpx->gradio) (3.7.1)\n",
      "Requirement already satisfied: certifi in c:\\users\\khelan modi\\appdata\\local\\packages\\pythonsoftwarefoundation.python.3.11_qbz5n2kfra8p0\\localcache\\local-packages\\python311\\site-packages (from httpx->gradio) (2023.7.22)\n",
      "Requirement already satisfied: httpcore==1.* in c:\\users\\khelan modi\\appdata\\local\\packages\\pythonsoftwarefoundation.python.3.11_qbz5n2kfra8p0\\localcache\\local-packages\\python311\\site-packages (from httpx->gradio) (1.0.2)\n",
      "Requirement already satisfied: idna in c:\\users\\khelan modi\\appdata\\local\\packages\\pythonsoftwarefoundation.python.3.11_qbz5n2kfra8p0\\localcache\\local-packages\\python311\\site-packages (from httpx->gradio) (3.4)\n",
      "Requirement already satisfied: sniffio in c:\\users\\khelan modi\\appdata\\local\\packages\\pythonsoftwarefoundation.python.3.11_qbz5n2kfra8p0\\localcache\\local-packages\\python311\\site-packages (from httpx->gradio) (1.3.0)\n",
      "Requirement already satisfied: attrs>=22.2.0 in c:\\users\\khelan modi\\appdata\\local\\packages\\pythonsoftwarefoundation.python.3.11_qbz5n2kfra8p0\\localcache\\local-packages\\python311\\site-packages (from jsonschema>=3.0->altair<6.0,>=4.2.0->gradio) (23.1.0)\n",
      "Requirement already satisfied: jsonschema-specifications>=2023.03.6 in c:\\users\\khelan modi\\appdata\\local\\packages\\pythonsoftwarefoundation.python.3.11_qbz5n2kfra8p0\\localcache\\local-packages\\python311\\site-packages (from jsonschema>=3.0->altair<6.0,>=4.2.0->gradio) (2023.7.1)\n",
      "Requirement already satisfied: referencing>=0.28.4 in c:\\users\\khelan modi\\appdata\\local\\packages\\pythonsoftwarefoundation.python.3.11_qbz5n2kfra8p0\\localcache\\local-packages\\python311\\site-packages (from jsonschema>=3.0->altair<6.0,>=4.2.0->gradio) (0.30.2)\n",
      "Requirement already satisfied: rpds-py>=0.7.1 in c:\\users\\khelan modi\\appdata\\local\\packages\\pythonsoftwarefoundation.python.3.11_qbz5n2kfra8p0\\localcache\\local-packages\\python311\\site-packages (from jsonschema>=3.0->altair<6.0,>=4.2.0->gradio) (0.10.6)\n",
      "Requirement already satisfied: six>=1.5 in c:\\users\\khelan modi\\appdata\\local\\packages\\pythonsoftwarefoundation.python.3.11_qbz5n2kfra8p0\\localcache\\local-packages\\python311\\site-packages (from python-dateutil>=2.7->matplotlib~=3.0->gradio) (1.16.0)\n",
      "Requirement already satisfied: markdown-it-py>=2.2.0 in c:\\users\\khelan modi\\appdata\\local\\packages\\pythonsoftwarefoundation.python.3.11_qbz5n2kfra8p0\\localcache\\local-packages\\python311\\site-packages (from rich<14.0.0,>=10.11.0->typer[all]<1.0,>=0.9->gradio) (3.0.0)\n",
      "Requirement already satisfied: pygments<3.0.0,>=2.13.0 in c:\\users\\khelan modi\\appdata\\local\\packages\\pythonsoftwarefoundation.python.3.11_qbz5n2kfra8p0\\localcache\\local-packages\\python311\\site-packages (from rich<14.0.0,>=10.11.0->typer[all]<1.0,>=0.9->gradio) (2.16.1)\n",
      "Requirement already satisfied: charset-normalizer<4,>=2 in c:\\users\\khelan modi\\appdata\\local\\packages\\pythonsoftwarefoundation.python.3.11_qbz5n2kfra8p0\\localcache\\local-packages\\python311\\site-packages (from requests->huggingface-hub>=0.19.3->gradio) (3.3.1)\n",
      "Requirement already satisfied: urllib3<3,>=1.21.1 in c:\\users\\khelan modi\\appdata\\local\\packages\\pythonsoftwarefoundation.python.3.11_qbz5n2kfra8p0\\localcache\\local-packages\\python311\\site-packages (from requests->huggingface-hub>=0.19.3->gradio) (2.0.7)\n",
      "Requirement already satisfied: mdurl~=0.1 in c:\\users\\khelan modi\\appdata\\local\\packages\\pythonsoftwarefoundation.python.3.11_qbz5n2kfra8p0\\localcache\\local-packages\\python311\\site-packages (from markdown-it-py>=2.2.0->rich<14.0.0,>=10.11.0->typer[all]<1.0,>=0.9->gradio) (0.1.2)\n"
     ]
    },
    {
     "name": "stderr",
     "output_type": "stream",
     "text": [
      "\n",
      "[notice] A new release of pip is available: 23.3.1 -> 24.0\n",
      "[notice] To update, run: C:\\Users\\Khelan Modi\\AppData\\Local\\Microsoft\\WindowsApps\\PythonSoftwareFoundation.Python.3.11_qbz5n2kfra8p0\\python.exe -m pip install --upgrade pip\n"
     ]
    },
    {
     "name": "stdout",
     "output_type": "stream",
     "text": [
      "Name: openai\n",
      "Version: 1.2.3\n",
      "Summary: The official Python library for the openai API\n",
      "Home-page: \n",
      "Author: \n",
      "Author-email: OpenAI <support@openai.com>\n",
      "License: \n",
      "Location: C:\\Users\\Khelan Modi\\AppData\\Local\\Packages\\PythonSoftwareFoundation.Python.3.11_qbz5n2kfra8p0\\LocalCache\\local-packages\\Python311\\site-packages\n",
      "Requires: anyio, distro, httpx, pydantic, tqdm, typing-extensions\n",
      "Required-by: \n"
     ]
    }
   ],
   "source": [
    "! pip install numpy\n",
    "! pip install openai==1.2.3\n",
    "! pip install pymongo\n",
    "! pip install python-dotenv\n",
    "! pip install azure-core\n",
    "! pip install azure-cosmos\n",
    "! pip install tenacity\n",
    "! pip install gradio\n",
    "! pip show openai"
   ]
  },
  {
   "cell_type": "markdown",
   "metadata": {},
   "source": [
    "Please use the example.env as a template to provide the necessary keys and endpoints in your own .env file.\n",
    "Make sure to modify the env_name accordingly. "
   ]
  },
  {
   "cell_type": "code",
   "execution_count": 2,
   "metadata": {},
   "outputs": [],
   "source": [
    "import json\n",
    "import time\n",
    "import openai\n",
    "\n",
    "from dotenv import dotenv_values\n",
    "from openai import AzureOpenAI\n",
    "\n",
    "# specify the name of the .env file name \n",
    "env_name = \"example.env\" # following example.env template change to your own .env file name\n",
    "config = dotenv_values(env_name)\n",
    "\n",
    "openai.api_type = config['openai_api_type']\n",
    "openai.api_key = config['openai_api_key']\n",
    "openai.api_base = config['openai_api_endpoint']\n",
    "openai.api_version = config['openai_api_version']\n",
    "\n",
    "client = AzureOpenAI(\n",
    "    api_key=openai.api_key,\n",
    "    api_version=openai.api_version,\n",
    "    azure_endpoint = openai.api_base\n",
    ")\n"
   ]
  },
  {
   "cell_type": "markdown",
   "metadata": {},
   "source": [
    "# Create embeddings <a class=\"anchor\" id=\"loaddata\"></a>\n",
    "Here we'll load a sample dataset containing descriptions of Azure services. Then we'll user Azure OpenAI to create vector embeddings from this data."
   ]
  },
  {
   "cell_type": "code",
   "execution_count": 3,
   "metadata": {},
   "outputs": [
    {
     "name": "stdout",
     "output_type": "stream",
     "text": [
      "[0.013928048312664032, -0.018227633088827133, -0.002117219613865018, -0.028481490910053253, -0.0009161046473309398, 0.006358173675835133, -0.03551717475056648, 0.006937965750694275, 0.019374188035726547, -0.019608711823821068, 0.00758290383964777, -0.00019462134514469653, 0.006964024156332016, -0.008905352093279362, -0.0035178419202566147, -0.018318835645914078, 0.01792796514928341, 0.004856576211750507, 0.028716012835502625, -0.017849789932370186, -0.017458919435739517, 0.004286555573344231, 0.004788173828274012, -0.02371286042034626, -0.00694448035210371, -0.004768630024045706, 0.01878788135945797, -0.011022571474313736, -0.02457277663052082, -0.021706387400627136, 0.027256760746240616, -0.00280124437995255, -0.023139582946896553, -0.0028338171541690826, 0.0006429018685594201, -0.006709957495331764, -0.005426596850156784, 0.0009234335157088935, 0.012117010541260242, -0.010325517505407333, 0.012384106405079365, -0.0068663060665130615, -0.003034138586372137, -0.0029103627894073725, 0.01814945787191391, 0.004824003670364618, 0.007022654637694359, -0.004416845738887787, -0.0001502411614637822, 0.008755517192184925, 0.008286472409963608, 0.0029738792218267918, -0.023973440751433372, -0.02053377404808998, -0.0030618254095315933, 0.01581726036965847, -0.015387301333248615, 0.006387488916516304, -0.004407074302434921, 0.016833525151014328, -0.02049468643963337, 0.0221884623169899, -0.020012611523270607, 0.03999916464090347, 0.001206815242767334, -0.015660911798477173, 0.0014844967518001795, 0.0120583800598979, 0.006130165420472622, 0.0170680470764637, 0.017550121992826462, -0.012449251487851143, 0.020155930891633034, -0.013641409575939178, -0.0007507986738346517, -0.0023142839781939983, -0.008390704169869423, -0.002583008026704192, -0.0004971394664607942, 0.0008517737733200192, 0.013198421336710453, -0.021419748663902283, -0.018032196909189224, -0.010846679098904133, 0.021875765174627304, 0.011472073383629322, -0.007726223208010197, 0.01728954166173935, -0.009446056559681892, -0.01069684512913227, 0.02155003882944584, 0.0028598750941455364, 0.015517591498792171, 0.012097467668354511, -0.023634685203433037, 0.02175850421190262, -0.0026546677108854055, 0.0025944083463400602, -0.0018419810803607106, 0.001719833817332983, 0.0010634957579895854, -0.007511243689805269, -0.015934521332383156, -0.018696678802371025, -0.024507632479071617, 0.001389221870340407, -0.007029169239103794, -0.0025602071546018124, -0.00604221923276782, -0.0024852901697158813, -0.011172405444085598, 0.030461905524134636, 0.027673689648509026, -0.03392763063311577, 0.0011156118707731366, -0.02264447882771492, 0.00820829812437296, -0.004696970339864492, -0.007296264637261629, -0.033875513821840286, 0.023778004571795464, -0.005260476376861334, 0.006595953367650509, -0.011700081638991833, 0.01878788135945797, 0.006644812412559986, -0.00027462781872600317, -0.027803979814052582, -0.018970288336277008, -0.0057555800303816795, 0.020025640726089478, 0.019778089597821236, 0.03288530558347702, -0.002550435485318303, -0.024520661681890488, 0.025706304237246513, -0.01356323529034853, 0.031321823596954346, -0.019100578501820564, -0.006498235743492842, -0.016924727708101273, 0.019361158832907677, -0.025589043274521828, 0.014840081334114075, 0.016299333423376083, 0.011074687354266644, -0.0022035371512174606, 0.013211450539529324, 0.015726055949926376, -0.0185533594340086, 0.025797506794333458, -0.010442778468132019, -0.0038631116040050983, -0.008390704169869423, 0.010885766707360744, -0.0014136512763798237, 0.0015944292536005378, 0.02736099250614643, -0.012520911172032356, -0.013941077515482903, 0.014722819440066814, -0.015934521332383156, 0.038122981786727905, -0.018748793751001358, 0.017354685813188553, 0.017836760729551315, 0.025888711214065552, 0.0038305390626192093, -0.008898837491869926, -0.018944229930639267, -2.3131642592488788e-05, -0.0009144760551862419, -0.018540330231189728, 0.011283151805400848, 0.03095700964331627, 0.02112008072435856, 0.009341824799776077, 0.005700206849724054, -0.0036807048600167036, -0.025106968358159065, -0.01685958355665207, -0.010338546708226204, 0.018631532788276672, 0.011569791473448277, -0.000966592226177454, -0.009511202573776245, 0.015022487379610538, -0.014866139739751816, -0.006788131780922413, 0.004179066047072411, 0.020846471190452576, 0.0013012757990509272, 0.01986929215490818, -0.00197552889585495, -0.67542564868927, -0.01921783946454525, -0.0074004968628287315, -0.020677093416452408, 0.03358887508511543, 0.024885473772883415, 0.02624049410223961, 0.003931513987481594, -0.029315348714590073, 0.018918171525001526, 0.006260455586016178, 0.022696595638990402, -0.005582945421338081, -0.000630280002951622, -0.00820829812437296, -0.010175683535635471, 0.010547011159360409, -0.008051949553191662, 0.011921575292944908, 0.03199933096766472, -0.021732445806264877, 0.021484892815351486, 0.005201845895498991, -0.0001652042119530961, 0.032572608441114426, 0.01705501787364483, -0.007185517810285091, -0.004993380978703499, -0.015309127047657967, 0.01620813086628914, -0.04380364716053009, 0.028768129646778107, -0.003866368904709816, 0.0037230493035167456, 0.050500575453042984, 0.0005516986129805446, -0.023335017263889313, 0.025979913771152496, 0.028246967121958733, 0.056077007204294205, -0.024650951847434044, 0.008846720680594444, 0.016103899106383324, -0.002123734215274453, -0.004586223512887955, 0.0006771031185053289, 0.030696427449584007, -0.023165639489889145, -0.0008403733372688293, -0.0035862443037331104, 0.021302487701177597, 0.012025807984173298, -0.0033810369204729795, -0.0046546258963644505, 0.0011115403613075614, -0.022123316302895546, 0.016833525151014328, 0.007921658456325531, 0.017250454053282738, 0.002892447868362069, -0.00918547622859478, -0.007224604953080416, -0.016963815316557884, -0.030670369043946266, -0.003794708987697959, -0.0005557701806537807, -0.01838398166000843, -0.017901906743645668, 0.004791431128978729, -0.022475101053714752, 0.0023566284216940403, 0.019335102289915085, -0.027908211573958397, 0.03304165601730347, 0.013302654027938843, 0.01663808897137642, 0.012781492434442043, -0.006165995262563229, -0.016286304220557213, -0.004293070174753666, 0.019061490893363953, 0.014618587680161, -0.007986804470419884, -0.01730257086455822, 0.011172405444085598, -0.005999874789267778, -0.040494270622730255, -0.03468331694602966, 0.008631741628050804, -0.012651201337575912, 0.0258235651999712, 0.03317194804549217, -0.029758336022496223, -0.009836927987635136, 0.0055634016171097755, 0.028090618550777435, -0.021458836272358894, 0.017823731526732445, 0.017380744218826294, -0.026761656627058983, 0.0014364521484822035, 0.0177325289696455, -0.002864761045202613, 0.0013322198064997792, 0.020872527733445168, 0.01983020454645157, 0.0230744369328022, 0.007465642411261797, 0.003990144934505224, -0.023778004571795464, 0.007159459870308638, 0.0007564988918602467, -0.017237424850463867, -0.014318919740617275, -0.0003035360132344067, -0.021914852783083916, 0.02158912643790245, -0.018735764548182487, 0.01325705274939537, -0.004074833355844021, 0.009419999085366726, -0.00555363018065691, -0.003924999386072159, -0.004465704783797264, -0.019752031192183495, 0.009120331145823002, -0.015869375318288803, -0.016963815316557884, 0.010807592421770096, -0.016286304220557213, -0.001206815242767334, 0.018305806443095207, 0.024442486464977264, -0.009009583853185177, 0.005794667173177004, -0.0009014469687826931, -0.022761739790439606, 0.0010211513144895434, 0.03403186425566673, -0.014188628643751144, -0.011472073383629322, 0.011257094331085682, -0.03452696651220322, -0.013309168629348278, -0.01087925210595131, -0.02988862805068493, -0.04291767254471779, -0.014722819440066814, -0.024403398856520653, 0.008481907658278942, 0.022735681384801865, -0.03796663507819176, -0.01984323374927044, 0.0023566284216940403, -0.018514271825551987, -0.014670703560113907, 0.01196066290140152, -0.024846386164426804, -0.0166902057826519, -0.01559576578438282, 0.01708107627928257, 0.014240745455026627, 0.006543837487697601, -0.007029169239103794, -0.0333804115653038, -0.009836927987635136, 0.031087299808859825, 0.024611864238977432, -0.007276721298694611, -0.026566220447421074, 0.007068256381899118, -0.0316084623336792, 0.00753730209544301, 0.003856597002595663, -0.0020471885800361633, 0.00940045528113842, -0.016963815316557884, -0.02712647058069706, 0.009563318453729153, -0.004208381287753582, -0.005719750188291073, -0.03796663507819176, -0.01814945787191391, 0.021054934710264206, 0.029810452833771706, -0.0106838159263134, 0.03867020457983017, 0.03317194804549217, -0.017615268006920815, 0.02436431311070919, -0.004859833512455225, -0.0005936358356848359, -0.007029169239103794, 0.0074851857498288155, 0.007791368290781975, 0.015465475618839264, -0.006964024156332016, -0.00011644708138192073, 0.014019251801073551, 0.006016161292791367, 0.017159251496195793, -0.015673939138650894, 0.009218048304319382, -0.019282985478639603, 0.0052963062189519405, -0.03731518238782883, -0.014983400702476501, -0.011165890842676163, 0.030852776020765305, 0.03973858430981636, 0.022149374708533287, -0.011928089894354343, -0.04148447513580322, -0.006286513991653919, -0.016729293391108513, 0.01900937594473362, -0.0029413066804409027, 0.015895433723926544, -0.01087925210595131, -0.016950786113739014, -0.02095070295035839, -0.008058464154601097, 0.017133193090558052, -0.016142984852194786, -0.013393857516348362, 0.0069509949535131454, -0.03395368903875351, 0.0056057460606098175, -0.008709915913641453, -0.004433132242411375, -0.011068172752857208, -0.0028549893759191036, 0.02626655250787735, 0.011009542271494865, -0.002788215409964323, -0.03523053601384163, 0.0067164720967411995, -0.012149583548307419, 0.04289161413908005, 0.02458580583333969, 0.040963314473629, 0.019556595012545586, 0.02096373215317726, -0.015243981964886189, 0.007954231463372707, 0.005960787646472454, 0.027048295363783836, 0.000675474526360631, 0.0065666381269693375, 0.01986929215490818, -0.019739001989364624, -0.0077522811479866505, -0.028142735362052917, 0.012325475923717022, 0.029185058549046516, -0.0254457239061594, 0.02134157344698906, -0.006377717014402151, -0.0013631636975333095, 0.02455974742770195, 0.0004507234843913466, -0.009048671461641788, 0.013094189576804638, 0.0023892009630799294, 0.016533857211470604, 0.009146388620138168, 0.013862903229892254, -0.019921408966183662, -0.031738750636577606, 0.003967343829572201, 0.008051949553191662, -0.006892364472150803, -0.012149583548307419, 0.015126720070838928, -0.004074833355844021, 0.012025807984173298, 0.009322280995547771, -0.00307485437951982, 0.005732779391109943, 0.005837011616677046, -0.021224312484264374, -0.021914852783083916, -0.000635980220977217, 0.009263650514185429, -0.015035516582429409, -0.008618712425231934, 0.014110454358160496, 0.025979913771152496, -0.007322322577238083, 0.011582819744944572, 0.008631741628050804, 0.022318752482533455, -0.014657674357295036, -0.003543900093063712, -0.011615392751991749, 0.009485144168138504, 0.02303534932434559, -0.012996471486985683, 0.0020781324710696936, -0.019530536606907845, 0.001302904449403286, -0.0012263588141649961, 0.013165849260985851, -0.022761739790439606, 0.053940244019031525, -0.0068663060665130615, 0.0013444344513118267, 0.0006819890113547444, -0.004234439227730036, -0.0077848536893725395, -0.0035406427923589945, -0.002234481042250991, -0.017237424850463867, 0.016820495948195457, 0.01712016388773918, -0.002501576440408826, -0.00865128543227911, -0.00994767528027296, 0.02158912643790245, 2.0586907339747995e-05, -0.013328712433576584, -0.0001919748174259439, -0.024038586765527725, -0.008221326395869255, 0.11444712430238724, -0.008905352093279362, 0.014983400702476501, 0.012892238795757294, 0.022383898496627808, 0.00041021130164153874, 0.003846825333312154, 0.013901989907026291, -0.00897049717605114, -0.0003859854186885059, -0.013615351170301437, -0.029393523931503296, -0.01644265279173851, -0.013094189576804638, 0.0359080471098423, 0.001998329535126686, -0.0014502954436466098, -0.01731560006737709, 0.016364479437470436, -0.036220744252204895, -0.019686885178089142, -0.005345165263861418, 0.008814148604869843, 0.021185224875807762, -0.0035178419202566147, 0.018722737208008766, 0.01876182295382023, 0.010735932737588882, 0.01598663628101349, 0.004042260814458132, 0.00856008194386959, 0.007113858126103878, -0.004504791926592588, 0.00961543433368206, -0.003706763032823801, -0.002659553661942482, -0.003674190491437912, -0.011869459412992, 0.02454671822488308, 0.01816248707473278, 0.013393857516348362, 0.0032100307289510965, 0.009459085762500763, -0.012644687667489052, 0.003236088901758194, -0.01176522672176361, -0.014918255619704723, 0.028090618550777435, 0.02368680201470852, -0.02096373215317726, 0.03953012079000473, 0.00666761351749301, -0.012716347351670265, -0.012077923864126205, 0.01133526861667633, 0.010755475610494614, 0.01176522672176361, -0.004397302400320768, -0.002768671838566661, -0.01986929215490818, -0.004283298272639513, -0.03848779574036598, 0.008833691477775574, 0.0037849373184144497, -0.010507924482226372, 0.007198547013103962, -0.0021009333431720734, 0.011393899098038673, -0.028976593166589737, -0.02161518484354019, 0.012533940374851227, -0.012331990525126457, -0.022488130256533623, 0.005908671300858259, -0.005543858278542757, 0.0029119914397597313, 0.019725972786545753, -0.0037588791456073523, 0.02605808898806572, -0.0037230493035167456, -0.008358132094144821, -0.0018550101667642593, 0.005882613360881805, -0.007113858126103878, -0.007185517810285091, 0.011146347038447857, 7.033647852949798e-05, -0.008064977824687958, -0.011836886405944824, 0.005820725578814745, 0.023582570254802704, -0.0041464935056865215, 0.00811709463596344, -0.0008126866305246949, 0.0002416480565443635, -0.009608919732272625, 0.024468544870615005, 0.027387050911784172, -0.01663808897137642, -0.014397094026207924, 0.03095700964331627, -0.009133360348641872, 0.013419914990663528, -0.00582724018022418, -0.013862903229892254, 0.01345900259912014, -0.0032735473942011595, 0.007426555268466473, -0.02368680201470852, 0.01878788135945797, 0.01642962545156479, 0.007055227179080248, 0.01123103592544794, 0.00677510304376483, -0.013172363862395287, 0.0026448960416018963, 0.003426638664677739, 0.01003887876868248, 0.009517716243863106, -0.0008810891304165125, 0.009895559400320053, -0.019999582320451736, 0.025067880749702454, 0.024416428059339523, 0.004436389543116093, -0.0054559120908379555, 0.018097342923283577, -0.03166057541966438, -0.015621824190020561, 0.01046883687376976, 0.004876119550317526, 0.033198002725839615, -0.0030162236653268337, -0.008918380364775658, -0.026618337258696556, -0.023569541051983833, -0.019048461690545082, 0.010227799415588379, -0.005924957804381847, -0.007739252410829067, -0.006325600668787956, 0.004052032716572285, 0.019374188035726547, -0.003664418589323759, -0.01442315150052309, -0.022592362016439438, -0.008032405748963356, -0.013283110223710537, -0.012045350857079029, 0.020429540425539017, -0.009556803852319717, 0.0032442319206893444, -0.011647965759038925, -0.0020374166779220104, -0.028038503602147102, 0.004364729858934879, 0.0019266698509454727, -0.024663981050252914, 0.02949775569140911, 0.037263065576553345, 0.00317420088686049, -0.013615351170301437, 0.03572563827037811, 0.013172363862395287, -0.01143298577517271, 0.006091078277677298, -0.005657862406224012, -0.01132223941385746, 0.004384273197501898, 0.03650738298892975, 0.02861178107559681, 0.0007064184756018221, -0.0058402689173817635, 0.017784645780920982, -0.0003279654774814844, 0.013771699741482735, 0.007921658456325531, -0.018084313720464706, 0.0035829872358590364, -0.017380744218826294, 0.003084626281633973, -0.0033810369204729795, -0.013393857516348362, -0.0010553526226431131, 0.01813642866909504, -0.004394045099616051, 0.04977094754576683, -0.005823982879519463, 0.0036807048600167036, -0.004048775415867567, 0.020390454679727554, -0.003547157160937786, 0.013146305456757545, -0.008735974319279194, -0.007211575750261545, -0.02518514171242714, -0.01036460418254137, -0.016612030565738678, -0.0069509949535131454, 0.010638214647769928, 0.009191990830004215, -0.01560879498720169, 0.002081389771774411, 0.008377674967050552, 0.00020408775890246034, 0.014279832132160664, -0.007778339087963104, -0.00831904448568821, 0.006794646382331848, -0.011517674662172794, -0.007804397493600845, -0.01441012229770422, -0.044142402708530426, -0.03934771195054054, -0.00865128543227911, -0.017875848338007927, -0.008162695914506912, 0.030670369043946266, -0.027204643934965134, -0.002146535087376833, -0.011758712120354176, 0.0068597919307649136, 0.012149583548307419, -0.0035080700181424618, 0.015217923559248447, 0.0010219656396657228, -0.006755559239536524, -0.008703401312232018, 0.0010089365532621741, -0.0021139623131603003, -0.01881393976509571, 0.017237424850463867, 0.015296097844839096, -0.02161518484354019, -0.008905352093279362, 0.01878788135945797, 0.0068663060665130615, -0.008735974319279194, -0.007973775267601013, 0.038748376071453094, 0.016911698505282402, 0.010709874331951141, 0.003941285889595747, 0.0006612240104004741, 0.002626981120556593, 0.014605558477342129, -0.016312362626194954, -0.01196717657148838, 0.0070487130433321, -0.031009124591946602, -0.0008729459368623793, 0.010846679098904133, 0.006709957495331764, 0.011211492121219635, 0.0038500826340168715, -0.005091099068522453, -0.0008501451229676604, -0.0032018874771893024, 0.0402076318860054, 0.010807592421770096, -0.01261862926185131, 0.03155634552240372, 0.01622116006910801, 0.0008249013335444033, 0.018201574683189392, 0.00908124353736639, -0.00853402353823185, -0.005833754315972328, 0.005420082248747349, 0.02156306803226471, -0.017432861030101776, -0.00570672145113349, 0.018631532788276672, -0.009341824799776077, -0.007843484170734882, -0.00941348448395729, 0.0018989831442013383, -0.026162320747971535, 0.001955985324457288, -0.003351721679791808, 0.02884630300104618, 0.0005321550415828824, -0.007869542576372623, -0.007192032411694527, -0.015426388010382652, -0.0006852463120594621, 0.0032751760445535183, -0.02267053723335266, 0.0017035475466400385, -0.018475184217095375, -0.011719625443220139, -0.004667655099183321, -0.004276783671230078, 0.010644729249179363, 0.002628609538078308, -0.011400413699448109, -0.01078804861754179, -0.005078069865703583, -0.008071492426097393, 0.02304837852716446, 0.0011042114347219467, -0.0007556845666840672, -0.03421426936984062, 0.003804480889812112, -0.0092766797170043, -0.053679659962654114, -0.012051865458488464, 0.010507924482226372, -0.020859500393271446, -0.012898753397166729, 0.002465746598318219, -0.0038012235891073942, -0.006247426848858595, -0.003977115731686354, -0.0014747249661013484, 0.013250538147985935, -0.01014962512999773, -0.01833186484873295, -0.021237341687083244, 0.016703234985470772, -0.010090994648635387, -0.018944229930639267, 0.015022487379610538, -0.02268356643617153, 0.026996178552508354, -0.008006347343325615, 0.01506157498806715, -0.0006453448440879583, -0.011315724812448025, -0.021080993115901947, 0.005429854150861502, 0.0267095398157835, -0.0011506275041028857, -0.04521078243851662, -0.00656338082626462, 0.02858572266995907, -0.015335184521973133, 0.029185058549046516, -0.008618712425231934, -0.008064977824687958, 0.011400413699448109, 0.0267095398157835, 0.010840164497494698, 0.0073679243214428425, -0.005823982879519463, -0.033458586782217026, -0.0025243773125112057, 0.009823898784816265, -0.01184340100735426, -0.014318919740617275, -0.0004242582363076508, 0.05255916342139244, 0.0026856116019189358, -0.032129622995853424, -0.009485144168138504, 0.01841004006564617, -0.028533605858683586, -0.01642962545156479, 0.0020374166779220104, -0.0016172301257029176, 0.0016164158005267382, 0.0008346731192432344, -0.018097342923283577, 0.015882404521107674, 0.016507798805832863, 0.02200605534017086, -0.012670745141804218, 0.008794604800641537, 0.005964044947177172, -0.009582862257957458, -0.004094377160072327, -0.0027393565978854895, -0.024077674373984337, -0.00046456686686724424, 0.002745870966464281, 0.00582724018022418, 0.004325642716139555, 0.011172405444085598, 0.004306098911911249, -0.0051399581134319305, -0.016976844519376755, 0.006146451458334923, 0.012364562600851059, 0.011133317835628986, 0.018735764548182487, -0.04403816908597946, -0.023009290918707848, 0.0033077485859394073, -0.0012149583781138062, -0.006266970187425613, -0.02540663629770279, -0.006397260818630457, -0.004530849866569042, -0.001827323460020125, 0.00010769319487735629, -0.005472198594361544, 0.0003821174323093146, 0.003462468506768346, 0.02177153341472149, -0.022305723279714584, -0.03348464146256447, -0.011257094331085682, 0.016924727708101273, -0.03184298425912857, -0.01812339946627617, 0.012208214029669762, -0.009465600363910198, 0.0051790447905659676, -0.010045393370091915, -0.012703318148851395, -0.017458919435739517, -0.0013656066730618477, 0.03080066107213497, -0.01005190797150135, 0.011687052436172962, -0.0016465454827994108, -0.021211283281445503, -0.0034494393039494753, 0.005667634308338165, -0.005560144782066345, -0.03731518238782883, -0.017380744218826294, 0.014201657846570015, -0.019595682621002197, -0.0007813354604877532, 0.005058526527136564, 0.006390746217221022, -0.036846134811639786, 0.023647714406251907, 0.01859244517982006, -0.038774434477090836, -0.02006472833454609, -0.01598663628101349, -0.014644645154476166, 0.006690414156764746, 0.03228596970438957, 0.22013872861862183, -0.007973775267601013, 0.008371160365641117, 0.028507549315690994, 0.004957551136612892, -0.00801286194473505, 0.0077522811479866505, 0.0009714781190268695, -0.0037849373184144497, 0.013667467050254345, 0.01627327688038349, 0.009361368604004383, 0.00125485984608531, 0.006074791774153709, 0.002294740406796336, 0.0015765143325552344, -0.018058255314826965, -0.009973733685910702, -0.034474849700927734, -0.005055269226431847, -0.0035862443037331104, 0.010605641640722752, -0.0084232771769166, -0.016077840700745583, 0.0301231499761343, 0.004550393670797348, -0.005420082248747349, -0.0067164720967411995, -0.015465475618839264, 0.00453410716727376, 0.005801181774586439, -0.008807634003460407, -0.008475393056869507, 0.008266928605735302, 0.010885766707360744, -0.024716095998883247, 0.021107051521539688, -0.0009161046473309398, 0.036429207772016525, 0.006058505270630121, -0.020807383581995964, -0.01036460418254137, -0.033640991896390915, -0.0019836719147861004, -0.031061241403222084, -0.003312634536996484, -0.026865888386964798, -0.016182072460651398, -0.013302654027938843, 0.011348297819495201, -0.018475184217095375, -0.030618254095315933, 0.018462155014276505, 0.007361409720033407, -0.0001223508734256029, -0.013432944193482399, 0.0431782528758049, 0.003726306604221463, -0.02201908454298973, -0.00962846353650093, -0.01229941751807928, 0.02436431311070919, -0.014188628643751144, 0.011113774962723255, 0.008188754320144653, -0.007550330832600594, -0.025914767757058144, 0.006840248126536608, 0.028351200744509697, 0.0043777585960924625, 0.0011367840925231576, -0.006354916375130415, -0.00013558348291553557, 0.009309251792728901, -0.012644687667489052, -0.0026904975529760122, 0.017901906743645668, 0.00866431463509798, 0.016546886414289474, 0.0160257238894701, 0.0012157727032899857, -0.008833691477775574, 0.018944229930639267, -0.011113774962723255, -0.0011571419890969992, -0.038748376071453094, 0.014305890537798405, -0.01142647210508585, 0.009797841310501099, 0.005159501451998949, 0.020833441987633705, -0.004986866842955351, -0.0006681456579826772, -0.0076675922609865665, -0.004309356212615967, 0.02715252712368965, -0.0406506173312664, 0.022514188662171364, 0.008371160365641117, 0.015009459108114243, -0.003986887633800507, -0.0393216535449028, 0.006055248435586691, 0.010117053054273129, 0.013862903229892254, -0.006485206540673971, -0.0006689599831588566, 0.0018615246517583728, -0.012136554345488548, -0.004065061919391155, -0.017146222293376923, -0.022722652181982994, -0.0032865763641893864, 0.001408765441738069, -0.005084584467113018, -0.018032196909189224, 0.011999749578535557, -0.02498970739543438, -0.0018712964374572039, -0.010260372422635555, 0.000966592226177454, 0.0238952673971653, -0.0077522811479866505, 0.01947842165827751, -0.0170680470764637, -0.010501409880816936, 0.00485331891104579, -0.004172551445662975, -0.00854705274105072, -0.04531501606106758, 0.043673355132341385, 0.0040292320773005486, 0.008325559087097645, -0.004179066047072411, -0.013198421336710453, -0.006068277172744274, 0.024859415367245674, -0.026422901079058647, 0.00866431463509798, 0.0036579042207449675, -0.004889148753136396, -0.025953855365514755, -0.004169294144958258, 0.006201825104653835, 0.007094314321875572, -0.02754339948296547, 0.025797506794333458, -0.015960579738020897, -0.011387384496629238, -0.006840248126536608, 0.014501325786113739, -0.017602238804101944, -0.007296264637261629, -0.04336065798997879, 0.013745641335844994, -0.018279748037457466, -0.018019167706370354, -0.038539912551641464, -0.022696595638990402, 0.016546886414289474, -0.02474215440452099, 0.00961543433368206, 0.019791118800640106, 0.0021351345349103212, -0.02668348141014576, -0.020168960094451904, -0.16656330227851868, 0.004351700656116009, 0.032572608441114426, 0.00813012383878231, 0.013107218779623508, -0.0014071367913857102, 0.025250287726521492, 0.00018729250587057322, -0.001763806794770062, 6.35165924904868e-05, 0.025536926463246346, 0.012918297201395035, -0.005156244151294231, 0.0036285887472331524, -0.0098304133862257, 0.0011506275041028857, -0.014983400702476501, 0.0019706429447978735, 0.010911824181675911, 0.0008794604800641537, 0.035986218601465225, -0.022045142948627472, -0.004263754468411207, -0.007498214952647686, -0.029393523931503296, -0.01280754990875721, 0.004087862558662891, -0.0026139519177377224, 0.01641659624874592, -0.00962846353650093, -0.00908124353736639, -0.0009380911942571402, 0.02393435314297676, 0.023321988061070442, 0.007042198441922665, -0.0009869501227512956, -0.004416845738887787, 0.01399319339543581, -0.0009332053014077246, 0.039191365242004395, -0.005136700812727213, 0.008143152110278606, 0.009739210829138756, -0.010286429896950722, -0.012794521637260914, -0.021419748663902283, 0.019061490893363953, 0.021015848964452744, -0.009478629566729069, -0.02866389788687229, 0.006892364472150803, -0.03926954045891762, -0.012318961322307587, 0.009771782904863358, 0.01451435498893261, 0.005065040662884712, -0.002434802707284689, 0.007042198441922665, 0.009354854002594948, -0.000960892008151859, -0.015504562295973301, -0.023191697895526886, 0.01003887876868248, -0.005198588594794273, 0.0033940658904612064, -0.002102561993524432, -0.020390454679727554, -0.01229941751807928, -0.01196717657148838, 0.0241167601197958, -0.018670620396733284, 0.00013751749065704644, 0.018488213419914246, -0.01626024767756462, 0.020820412784814835, 0.014683732762932777, -0.011296181008219719, -0.021680328994989395, -0.005687177646905184, -0.026123233139514923, -0.0016074583400040865, 0.05125625804066658, -0.013432944193482399, 0.023387134075164795, 0.0034982983488589525, 0.038331449031829834, 0.0055634016171097755, 0.0034885264467447996, -0.025745391845703125, -0.023178668692708015, -6.69774308335036e-05, -0.014188628643751144, -0.017211366444826126, -0.014266802929341793, -0.008599169552326202, 0.0196608267724514, 0.008475393056869507, -0.009876015596091747, 0.002382686361670494, -0.01388896070420742, -0.012012778781354427, -0.007055227179080248, 0.0005842712125740945, 0.027882155030965805, 0.020221076905727386, 0.011875974014401436, -0.014827052131295204, 0.017458919435739517, 0.022058172151446342, -0.008709915913641453, -0.012292902916669846, 0.009029127657413483, 0.008540538139641285, 0.010110538452863693, 0.018644561991095543, -0.007986804470419884, 0.022761739790439606, -0.016742320731282234, 0.02243601344525814, -0.006853277329355478, 0.010045393370091915, -0.010117053054273129, -0.01860547438263893, 0.02710041217505932, -0.0075177582912147045, 0.010449293069541454, -0.08979617059230804, 0.011068172752857208, -0.0011709852842614055, 0.019999582320451736, -0.014996429905295372, 0.025771448388695717, 0.003289833664894104, 0.028481490910053253, 0.015309127047657967, 0.0008713173447176814, 0.016156014055013657, -0.01451435498893261, -0.000346898304997012, -0.0034982983488589525, 0.015178835950791836, -0.011178920045495033, 0.0016327020712196827, -0.006794646382331848, -0.00788908638060093, -0.0010170798050239682, -0.011257094331085682, 0.0004690455971285701, -0.004898920655250549, 0.0008582882583141327, -0.0016139728249982, -0.00876203179359436, -0.02715252712368965, 0.017406802624464035, 0.020820412784814835, 0.01560879498720169, -0.0023273129481822252, -0.0010643100831657648, 0.017406802624464035, -0.006231140345335007, -0.0034494393039494753, -0.011478587985038757, -0.009009583853185177, 0.0063321152701973915, 0.008175725117325783, -0.026566220447421074, -0.012729375623166561, -0.022892029955983162, -0.004664397798478603, -0.03715883195400238, -0.0020602175500243902, -0.019165724515914917, 0.007556845434010029, 0.026566220447421074, 0.035152360796928406, -0.011224521324038506, -0.01599966548383236, 0.004126949701458216, 0.008507966063916683, 0.003514584619551897, 0.027830038219690323, -0.029393523931503296, -0.014214687049388885, -0.015361242927610874, -0.012761948630213737, 0.012918297201395035, -0.0007121186936274171, 0.016768379136919975, -0.023126553744077682, 0.020677093416452408, 0.022748710587620735, 0.004778401926159859, -0.0048370324075222015, -0.002630238188430667, 0.001085482188500464, -0.018527301028370857, -0.003407095093280077, 0.015660911798477173, -0.023139582946896553, 0.026787715032696724, -0.01388896070420742, -0.018644561991095543, -0.006540580186992884, -0.017380744218826294, -0.004016202874481678, -0.034500908106565475, -0.022983234375715256, -0.01293784100562334, 0.012892238795757294, -0.02286597155034542, 0.013432944193482399, 0.024181906133890152, 0.01333522703498602, 0.0024494603276252747, -0.003967343829572201, -0.011647965759038925, 0.01882696896791458, 0.009406969882547855, 0.018696678802371025, 0.009257135912775993, -0.02840331569314003, 0.0004454304580576718, -0.014344977214932442, -0.011830371804535389, 0.015087633393704891, 0.004768630024045706, -0.028246967121958733, 0.0010219656396657228, -0.07119069993495941, 0.0267095398157835, 0.01356323529034853, -0.0048728627152740955, -0.0023794290609657764, -0.018879085779190063, 0.0042116385884583, 0.0003263368271291256, -0.01814945787191391, -0.008045434951782227, -0.022045142948627472, -0.004882634151726961, -0.009843442589044571, 0.013797757215797901, -0.015699997544288635, 0.003268661443144083, 0.014110454358160496, 0.009309251792728901, 0.03744547441601753, -0.0028484747745096684, -0.022175433114171028, 0.014240745455026627, 0.0003821174323093146, -0.0018533815164119005, -0.03838356211781502, 0.007224604953080416, -0.007680621463805437, 0.018097342923283577, -0.010690330527722836, 0.00405854731798172, 0.004009688273072243, -0.018735764548182487, 0.0073679243214428425, 0.018931200727820396, -0.016833525151014328, -0.017458919435739517, 0.02113310992717743, 0.011465558782219887, -0.0009161046473309398, -0.03973858430981636, -0.0037035057321190834, -0.021224312484264374, 0.0020260163582861423, 0.004563422873616219, -0.0050715552642941475, -0.017185309901833534, 0.010071450844407082, 0.016820495948195457, 0.032155681401491165, 0.004524335730820894, -0.02303534932434559, 0.012703318148851395, -0.008156181313097477, 0.0014095796504989266, 0.001168542425148189, -0.025093939155340195, 0.002063474850729108, -0.011250579729676247, -0.00470022764056921, -0.004459190182387829, 0.027282819151878357, 0.048598334193229675, 0.024950619786977768, -0.0029413066804409027, 0.038539912551641464, 0.015178835950791836, -0.018266720697283745, 0.0110160568729043, 0.01878788135945797, -0.018944229930639267, -0.017654355615377426, 0.008006347343325615, 0.010950911790132523, 0.0035308708902448416, 0.0053419079631567, 0.002543920883908868, 0.01942630484700203, -0.022722652181982994, -0.008768546395003796, 0.0311654731631279, -0.006247426848858595, 0.002736099297180772, -0.028116676956415176, 0.01579120196402073, 0.002019501756876707, 0.013485061004757881, 0.01899634674191475, -0.01387593150138855, -0.019595682621002197, 0.014879168011248112, -0.023543482646346092, -0.001410393975675106, -0.00813012383878231, -0.023582570254802704, 0.01813642866909504, 0.026136262342333794, 0.010664272122085094, -0.02988862805068493, -0.0026986408047378063, 0.0290808267891407, -0.00038741048774681985, 0.0024185162037611008, -0.016911698505282402, 0.008749003522098064, -0.03499601408839226, 0.020025640726089478, -0.000881903397385031, 0.008162695914506912, -0.003749107476323843, -0.0034168667625635862, -0.014787965454161167, 0.020429540425539017, -0.023791033774614334, 0.016299333423376083, 0.0007862213533371687, 0.021458836272358894, -0.0015887290937826037, -0.04098937287926674, -0.00856008194386959, 0.011178920045495033, 0.010110538452863693, 0.025458751246333122, -0.014032280072569847, -0.010579584166407585, 0.011882488615810871, 5.4966280004009604e-05, 0.017354685813188553, 0.004205123987048864, 0.014501325786113739, -0.013915019109845161, 0.010299459099769592, -0.010605641640722752, -0.0027491282671689987, -0.00592170050367713, -0.02647501789033413, 0.007778339087963104, 0.01036460418254137, 0.030018918216228485, -0.01112028956413269, 0.05107385292649269, 0.01249485369771719, 0.0011384127428755164, 0.007648048922419548, -0.004501534625887871, 0.016612030565738678, -0.0035308708902448416, 0.001277660601772368, -0.017849789932370186, -0.01665111817419529, 0.019282985478639603, -0.006377717014402151, -0.020768295973539352, -0.018006138503551483, -0.037054602056741714, -0.001010565203614533, -0.012644687667489052, -0.003716534934937954, -0.009419999085366726, 0.009954189881682396, 0.041302070021629333, 0.02756945788860321, 0.043256428092718124, 0.03095700964331627, -0.01860547438263893, -0.03468331694602966, 0.012247301638126373, 0.004452676046639681, -0.015543649904429913, -0.043907877057790756, -0.005266990978270769, 0.025576014071702957, -0.014292861334979534, -0.022527217864990234, 0.010064936242997646, -0.0053419079631567, -0.005810953676700592, 0.009797841310501099, -0.0017866076668724418, 0.04489808529615402, -0.00566111970692873, 0.005960787646472454, -0.017002902925014496, -0.007934687659144402, 0.014201657846570015, 0.011172405444085598, -0.03139999508857727, -0.003439667634665966, -0.015191865153610706]\n"
     ]
    }
   ],
   "source": [
    "import openai\n",
    "\n",
    "def generate_embeddings(text):\n",
    "    try:\n",
    "        response = client.embeddings.create(\n",
    "            input=text, model=\"text-embedding-ada-002\")\n",
    "        embeddings = response.data[0].embedding\n",
    "        return embeddings\n",
    "    except Exception as e:\n",
    "        print(f\"An error occurred: {e}\")\n",
    "        return None\n",
    "\n",
    "embeddings = generate_embeddings(\"Shoes for San Francisco summer\")\n",
    "\n",
    "if embeddings is not None:\n",
    "    print(embeddings)"
   ]
  },
  {
   "cell_type": "markdown",
   "metadata": {},
   "source": [
    "# Connect and setup Cosmos DB for MongoDB vCore"
   ]
  },
  {
   "cell_type": "markdown",
   "metadata": {},
   "source": [
    "## Set up the connection"
   ]
  },
  {
   "cell_type": "code",
   "execution_count": 4,
   "metadata": {},
   "outputs": [],
   "source": [
    "import pymongo\n",
    "\n",
    "env_name = \"example.env\"\n",
    "config = dotenv_values(env_name)\n",
    "\n",
    "mongo_conn = config['mongo_vcore_connection_string']\n",
    "mongo_client = pymongo.MongoClient(mongo_conn)"
   ]
  },
  {
   "cell_type": "markdown",
   "metadata": {},
   "source": [
    "##  Set up the DB and collection"
   ]
  },
  {
   "cell_type": "code",
   "execution_count": 5,
   "metadata": {},
   "outputs": [
    {
     "name": "stdout",
     "output_type": "stream",
     "text": [
      "Created collection 'AdgenCollection'.\n",
      "\n"
     ]
    }
   ],
   "source": [
    "DATABASE_NAME = \"AdgenDatabase\"\n",
    "COLLECTION_NAME = \"AdgenCollection\"\n",
    "\n",
    "mongo_client.drop_database(DATABASE_NAME)\n",
    "db = mongo_client[DATABASE_NAME]\n",
    "collection = db[COLLECTION_NAME]\n",
    "\n",
    "if COLLECTION_NAME not in db.list_collection_names():\n",
    "    # Creates a unsharded collection that uses the DBs shared throughput\n",
    "    db.create_collection(COLLECTION_NAME)\n",
    "    print(\"Created collection '{}'.\\n\".format(COLLECTION_NAME))\n",
    "else:\n",
    "    print(\"Using collection: '{}'.\\n\".format(COLLECTION_NAME))"
   ]
  },
  {
   "cell_type": "markdown",
   "metadata": {},
   "source": [
    "## Create the vector index\n",
    "\n",
    "**IMPORTANT: You can only create one index per vector property.** That is, you cannot create more than one index that points to the same vector property. If you want to change the index type (e.g., from IVF to HNSW) you must drop the index first before creating a new index.\n",
    "\n",
    "### IVF\n",
    "IVF is the default vector indexing algorithm, which works on all cluster tiers. It's an approximate nerarest neighbors (ANN) approach that uses clustering to speeding up the search for similar vectors in a dataset. "
   ]
  },
  {
   "cell_type": "code",
   "execution_count": 6,
   "metadata": {},
   "outputs": [],
   "source": [
    "db.command({\n",
    "  'createIndexes': COLLECTION_NAME,\n",
    "  'indexes': [\n",
    "    {\n",
    "      'name': 'vectorSearchIndex',\n",
    "      'key': {\n",
    "        \"contentVector\": \"cosmosSearch\"\n",
    "      },\n",
    "      'cosmosSearchOptions': {\n",
    "        'kind': 'vector-ivf',\n",
    "        'numLists': 1,\n",
    "        'similarity': 'COS',\n",
    "        'dimensions': 1536\n",
    "      }\n",
    "    }\n",
    "  ]\n",
    "});"
   ]
  },
  {
   "cell_type": "markdown",
   "metadata": {},
   "source": [
    "### HNSW\n",
    "\n",
    "HNSW stands for Hierarchical Navigable Small World, a graph-based data structure that partitions vectors into clusters and subclusters. With HNSW, you can perform fast approximate nearest neighbor search at higher speeds with greater accuracy. HNSW is an approximate (ANN) method. As a preview feature, this must be enabled using Azure Feature Enablement Control (AFEC) by selecting the \"mongoHnswIndex\" feature. For more information, see [enable preview features](https://learn.microsoft.com/azure/azure-resource-manager/management/preview-features).\n",
    "\n",
    "HNSW works on M50 cluster tiers and higher while in preview."
   ]
  },
  {
   "cell_type": "code",
   "execution_count": 8,
   "metadata": {},
   "outputs": [
    {
     "ename": "OperationFailure",
     "evalue": "hnsw index is not supported yet, full error: {'ok': 0.0, 'errmsg': 'hnsw index is not supported yet', 'code': 115, 'codeName': 'CommandNotSupported'}",
     "output_type": "error",
     "traceback": [
      "\u001b[1;31m---------------------------------------------------------------------------\u001b[0m",
      "\u001b[1;31mOperationFailure\u001b[0m                          Traceback (most recent call last)",
      "Cell \u001b[1;32mIn[8], line 1\u001b[0m\n\u001b[1;32m----> 1\u001b[0m \u001b[43mdb\u001b[49m\u001b[38;5;241;43m.\u001b[39;49m\u001b[43mcommand\u001b[49m\u001b[43m(\u001b[49m\n\u001b[0;32m      2\u001b[0m \u001b[43m{\u001b[49m\u001b[43m \u001b[49m\n\u001b[0;32m      3\u001b[0m \u001b[43m    \u001b[49m\u001b[38;5;124;43m\"\u001b[39;49m\u001b[38;5;124;43mcreateIndexes\u001b[39;49m\u001b[38;5;124;43m\"\u001b[39;49m\u001b[43m:\u001b[49m\u001b[43m \u001b[49m\u001b[38;5;124;43m\"\u001b[39;49m\u001b[38;5;124;43mExampleCollection\u001b[39;49m\u001b[38;5;124;43m\"\u001b[39;49m\u001b[43m,\u001b[49m\n\u001b[0;32m      4\u001b[0m \u001b[43m    \u001b[49m\u001b[38;5;124;43m\"\u001b[39;49m\u001b[38;5;124;43mindexes\u001b[39;49m\u001b[38;5;124;43m\"\u001b[39;49m\u001b[43m:\u001b[49m\u001b[43m \u001b[49m\u001b[43m[\u001b[49m\n\u001b[0;32m      5\u001b[0m \u001b[43m        \u001b[49m\u001b[43m{\u001b[49m\n\u001b[0;32m      6\u001b[0m \u001b[43m            \u001b[49m\u001b[38;5;124;43m\"\u001b[39;49m\u001b[38;5;124;43mname\u001b[39;49m\u001b[38;5;124;43m\"\u001b[39;49m\u001b[43m:\u001b[49m\u001b[43m \u001b[49m\u001b[38;5;124;43m\"\u001b[39;49m\u001b[38;5;124;43mVectorSearchIndex\u001b[39;49m\u001b[38;5;124;43m\"\u001b[39;49m\u001b[43m,\u001b[49m\n\u001b[0;32m      7\u001b[0m \u001b[43m            \u001b[49m\u001b[38;5;124;43m\"\u001b[39;49m\u001b[38;5;124;43mkey\u001b[39;49m\u001b[38;5;124;43m\"\u001b[39;49m\u001b[43m:\u001b[49m\u001b[43m \u001b[49m\u001b[43m{\u001b[49m\n\u001b[0;32m      8\u001b[0m \u001b[43m                \u001b[49m\u001b[38;5;124;43m\"\u001b[39;49m\u001b[38;5;124;43mcontentVector\u001b[39;49m\u001b[38;5;124;43m\"\u001b[39;49m\u001b[43m:\u001b[49m\u001b[43m \u001b[49m\u001b[38;5;124;43m\"\u001b[39;49m\u001b[38;5;124;43mcosmosSearch\u001b[39;49m\u001b[38;5;124;43m\"\u001b[39;49m\n\u001b[0;32m      9\u001b[0m \u001b[43m            \u001b[49m\u001b[43m}\u001b[49m\u001b[43m,\u001b[49m\n\u001b[0;32m     10\u001b[0m \u001b[43m            \u001b[49m\u001b[38;5;124;43m\"\u001b[39;49m\u001b[38;5;124;43mcosmosSearchOptions\u001b[39;49m\u001b[38;5;124;43m\"\u001b[39;49m\u001b[43m:\u001b[49m\u001b[43m \u001b[49m\u001b[43m{\u001b[49m\u001b[43m \u001b[49m\n\u001b[0;32m     11\u001b[0m \u001b[43m                \u001b[49m\u001b[38;5;124;43m\"\u001b[39;49m\u001b[38;5;124;43mkind\u001b[39;49m\u001b[38;5;124;43m\"\u001b[39;49m\u001b[43m:\u001b[49m\u001b[43m \u001b[49m\u001b[38;5;124;43m\"\u001b[39;49m\u001b[38;5;124;43mvector-hnsw\u001b[39;49m\u001b[38;5;124;43m\"\u001b[39;49m\u001b[43m,\u001b[49m\u001b[43m \u001b[49m\n\u001b[0;32m     12\u001b[0m \u001b[43m                \u001b[49m\u001b[38;5;124;43m\"\u001b[39;49m\u001b[38;5;124;43mm\u001b[39;49m\u001b[38;5;124;43m\"\u001b[39;49m\u001b[43m:\u001b[49m\u001b[43m \u001b[49m\u001b[38;5;241;43m16\u001b[39;49m\u001b[43m,\u001b[49m\u001b[43m \u001b[49m\u001b[38;5;66;43;03m# default value \u001b[39;49;00m\n\u001b[0;32m     13\u001b[0m \u001b[43m                \u001b[49m\u001b[38;5;124;43m\"\u001b[39;49m\u001b[38;5;124;43mefConstruction\u001b[39;49m\u001b[38;5;124;43m\"\u001b[39;49m\u001b[43m:\u001b[49m\u001b[43m \u001b[49m\u001b[38;5;241;43m64\u001b[39;49m\u001b[43m,\u001b[49m\u001b[43m \u001b[49m\u001b[38;5;66;43;03m# default value \u001b[39;49;00m\n\u001b[0;32m     14\u001b[0m \u001b[43m                \u001b[49m\u001b[38;5;124;43m\"\u001b[39;49m\u001b[38;5;124;43msimilarity\u001b[39;49m\u001b[38;5;124;43m\"\u001b[39;49m\u001b[43m:\u001b[49m\u001b[43m \u001b[49m\u001b[38;5;124;43m\"\u001b[39;49m\u001b[38;5;124;43mCOS\u001b[39;49m\u001b[38;5;124;43m\"\u001b[39;49m\u001b[43m,\u001b[49m\u001b[43m \u001b[49m\n\u001b[0;32m     15\u001b[0m \u001b[43m                \u001b[49m\u001b[38;5;124;43m\"\u001b[39;49m\u001b[38;5;124;43mdimensions\u001b[39;49m\u001b[38;5;124;43m\"\u001b[39;49m\u001b[43m:\u001b[49m\u001b[43m \u001b[49m\u001b[38;5;241;43m1536\u001b[39;49m\n\u001b[0;32m     16\u001b[0m \u001b[43m            \u001b[49m\u001b[43m}\u001b[49m\u001b[43m \u001b[49m\n\u001b[0;32m     17\u001b[0m \u001b[43m        \u001b[49m\u001b[43m}\u001b[49m\u001b[43m \u001b[49m\n\u001b[0;32m     18\u001b[0m \u001b[43m    \u001b[49m\u001b[43m]\u001b[49m\u001b[43m \u001b[49m\n\u001b[0;32m     19\u001b[0m \u001b[43m}\u001b[49m\n\u001b[0;32m     20\u001b[0m \u001b[43m)\u001b[49m\n",
      "File \u001b[1;32m~\\AppData\\Local\\Packages\\PythonSoftwareFoundation.Python.3.11_qbz5n2kfra8p0\\LocalCache\\local-packages\\Python311\\site-packages\\pymongo\\_csot.py:108\u001b[0m, in \u001b[0;36mapply.<locals>.csot_wrapper\u001b[1;34m(self, *args, **kwargs)\u001b[0m\n\u001b[0;32m    106\u001b[0m         \u001b[38;5;28;01mwith\u001b[39;00m _TimeoutContext(timeout):\n\u001b[0;32m    107\u001b[0m             \u001b[38;5;28;01mreturn\u001b[39;00m func(\u001b[38;5;28mself\u001b[39m, \u001b[38;5;241m*\u001b[39margs, \u001b[38;5;241m*\u001b[39m\u001b[38;5;241m*\u001b[39mkwargs)\n\u001b[1;32m--> 108\u001b[0m \u001b[38;5;28;01mreturn\u001b[39;00m \u001b[43mfunc\u001b[49m\u001b[43m(\u001b[49m\u001b[38;5;28;43mself\u001b[39;49m\u001b[43m,\u001b[49m\u001b[43m \u001b[49m\u001b[38;5;241;43m*\u001b[39;49m\u001b[43margs\u001b[49m\u001b[43m,\u001b[49m\u001b[43m \u001b[49m\u001b[38;5;241;43m*\u001b[39;49m\u001b[38;5;241;43m*\u001b[39;49m\u001b[43mkwargs\u001b[49m\u001b[43m)\u001b[49m\n",
      "File \u001b[1;32m~\\AppData\\Local\\Packages\\PythonSoftwareFoundation.Python.3.11_qbz5n2kfra8p0\\LocalCache\\local-packages\\Python311\\site-packages\\pymongo\\database.py:896\u001b[0m, in \u001b[0;36mDatabase.command\u001b[1;34m(self, command, value, check, allowable_errors, read_preference, codec_options, session, comment, **kwargs)\u001b[0m\n\u001b[0;32m    891\u001b[0m     read_preference \u001b[38;5;241m=\u001b[39m (session \u001b[38;5;129;01mand\u001b[39;00m session\u001b[38;5;241m.\u001b[39m_txn_read_preference()) \u001b[38;5;129;01mor\u001b[39;00m ReadPreference\u001b[38;5;241m.\u001b[39mPRIMARY\n\u001b[0;32m    892\u001b[0m \u001b[38;5;28;01mwith\u001b[39;00m \u001b[38;5;28mself\u001b[39m\u001b[38;5;241m.\u001b[39m__client\u001b[38;5;241m.\u001b[39m_conn_for_reads(read_preference, session) \u001b[38;5;28;01mas\u001b[39;00m (\n\u001b[0;32m    893\u001b[0m     connection,\n\u001b[0;32m    894\u001b[0m     read_preference,\n\u001b[0;32m    895\u001b[0m ):\n\u001b[1;32m--> 896\u001b[0m     \u001b[38;5;28;01mreturn\u001b[39;00m \u001b[38;5;28;43mself\u001b[39;49m\u001b[38;5;241;43m.\u001b[39;49m\u001b[43m_command\u001b[49m\u001b[43m(\u001b[49m\n\u001b[0;32m    897\u001b[0m \u001b[43m        \u001b[49m\u001b[43mconnection\u001b[49m\u001b[43m,\u001b[49m\n\u001b[0;32m    898\u001b[0m \u001b[43m        \u001b[49m\u001b[43mcommand\u001b[49m\u001b[43m,\u001b[49m\n\u001b[0;32m    899\u001b[0m \u001b[43m        \u001b[49m\u001b[43mvalue\u001b[49m\u001b[43m,\u001b[49m\n\u001b[0;32m    900\u001b[0m \u001b[43m        \u001b[49m\u001b[43mcheck\u001b[49m\u001b[43m,\u001b[49m\n\u001b[0;32m    901\u001b[0m \u001b[43m        \u001b[49m\u001b[43mallowable_errors\u001b[49m\u001b[43m,\u001b[49m\n\u001b[0;32m    902\u001b[0m \u001b[43m        \u001b[49m\u001b[43mread_preference\u001b[49m\u001b[43m,\u001b[49m\n\u001b[0;32m    903\u001b[0m \u001b[43m        \u001b[49m\u001b[43mopts\u001b[49m\u001b[43m,\u001b[49m\n\u001b[0;32m    904\u001b[0m \u001b[43m        \u001b[49m\u001b[43msession\u001b[49m\u001b[38;5;241;43m=\u001b[39;49m\u001b[43msession\u001b[49m\u001b[43m,\u001b[49m\n\u001b[0;32m    905\u001b[0m \u001b[43m        \u001b[49m\u001b[38;5;241;43m*\u001b[39;49m\u001b[38;5;241;43m*\u001b[39;49m\u001b[43mkwargs\u001b[49m\u001b[43m,\u001b[49m\n\u001b[0;32m    906\u001b[0m \u001b[43m    \u001b[49m\u001b[43m)\u001b[49m\n",
      "File \u001b[1;32m~\\AppData\\Local\\Packages\\PythonSoftwareFoundation.Python.3.11_qbz5n2kfra8p0\\LocalCache\\local-packages\\Python311\\site-packages\\pymongo\\database.py:745\u001b[0m, in \u001b[0;36mDatabase._command\u001b[1;34m(self, conn, command, value, check, allowable_errors, read_preference, codec_options, write_concern, parse_write_concern_error, session, **kwargs)\u001b[0m\n\u001b[0;32m    743\u001b[0m command\u001b[38;5;241m.\u001b[39mupdate(kwargs)\n\u001b[0;32m    744\u001b[0m \u001b[38;5;28;01mwith\u001b[39;00m \u001b[38;5;28mself\u001b[39m\u001b[38;5;241m.\u001b[39m__client\u001b[38;5;241m.\u001b[39m_tmp_session(session) \u001b[38;5;28;01mas\u001b[39;00m s:\n\u001b[1;32m--> 745\u001b[0m     \u001b[38;5;28;01mreturn\u001b[39;00m \u001b[43mconn\u001b[49m\u001b[38;5;241;43m.\u001b[39;49m\u001b[43mcommand\u001b[49m\u001b[43m(\u001b[49m\n\u001b[0;32m    746\u001b[0m \u001b[43m        \u001b[49m\u001b[38;5;28;43mself\u001b[39;49m\u001b[38;5;241;43m.\u001b[39;49m\u001b[43m__name\u001b[49m\u001b[43m,\u001b[49m\n\u001b[0;32m    747\u001b[0m \u001b[43m        \u001b[49m\u001b[43mcommand\u001b[49m\u001b[43m,\u001b[49m\n\u001b[0;32m    748\u001b[0m \u001b[43m        \u001b[49m\u001b[43mread_preference\u001b[49m\u001b[43m,\u001b[49m\n\u001b[0;32m    749\u001b[0m \u001b[43m        \u001b[49m\u001b[43mcodec_options\u001b[49m\u001b[43m,\u001b[49m\n\u001b[0;32m    750\u001b[0m \u001b[43m        \u001b[49m\u001b[43mcheck\u001b[49m\u001b[43m,\u001b[49m\n\u001b[0;32m    751\u001b[0m \u001b[43m        \u001b[49m\u001b[43mallowable_errors\u001b[49m\u001b[43m,\u001b[49m\n\u001b[0;32m    752\u001b[0m \u001b[43m        \u001b[49m\u001b[43mwrite_concern\u001b[49m\u001b[38;5;241;43m=\u001b[39;49m\u001b[43mwrite_concern\u001b[49m\u001b[43m,\u001b[49m\n\u001b[0;32m    753\u001b[0m \u001b[43m        \u001b[49m\u001b[43mparse_write_concern_error\u001b[49m\u001b[38;5;241;43m=\u001b[39;49m\u001b[43mparse_write_concern_error\u001b[49m\u001b[43m,\u001b[49m\n\u001b[0;32m    754\u001b[0m \u001b[43m        \u001b[49m\u001b[43msession\u001b[49m\u001b[38;5;241;43m=\u001b[39;49m\u001b[43ms\u001b[49m\u001b[43m,\u001b[49m\n\u001b[0;32m    755\u001b[0m \u001b[43m        \u001b[49m\u001b[43mclient\u001b[49m\u001b[38;5;241;43m=\u001b[39;49m\u001b[38;5;28;43mself\u001b[39;49m\u001b[38;5;241;43m.\u001b[39;49m\u001b[43m__client\u001b[49m\u001b[43m,\u001b[49m\n\u001b[0;32m    756\u001b[0m \u001b[43m    \u001b[49m\u001b[43m)\u001b[49m\n",
      "File \u001b[1;32m~\\AppData\\Local\\Packages\\PythonSoftwareFoundation.Python.3.11_qbz5n2kfra8p0\\LocalCache\\local-packages\\Python311\\site-packages\\pymongo\\helpers.py:315\u001b[0m, in \u001b[0;36m_handle_reauth.<locals>.inner\u001b[1;34m(*args, **kwargs)\u001b[0m\n\u001b[0;32m    312\u001b[0m \u001b[38;5;28;01mfrom\u001b[39;00m \u001b[38;5;21;01mpymongo\u001b[39;00m\u001b[38;5;21;01m.\u001b[39;00m\u001b[38;5;21;01mpool\u001b[39;00m \u001b[38;5;28;01mimport\u001b[39;00m Connection\n\u001b[0;32m    314\u001b[0m \u001b[38;5;28;01mtry\u001b[39;00m:\n\u001b[1;32m--> 315\u001b[0m     \u001b[38;5;28;01mreturn\u001b[39;00m \u001b[43mfunc\u001b[49m\u001b[43m(\u001b[49m\u001b[38;5;241;43m*\u001b[39;49m\u001b[43margs\u001b[49m\u001b[43m,\u001b[49m\u001b[43m \u001b[49m\u001b[38;5;241;43m*\u001b[39;49m\u001b[38;5;241;43m*\u001b[39;49m\u001b[43mkwargs\u001b[49m\u001b[43m)\u001b[49m\n\u001b[0;32m    316\u001b[0m \u001b[38;5;28;01mexcept\u001b[39;00m OperationFailure \u001b[38;5;28;01mas\u001b[39;00m exc:\n\u001b[0;32m    317\u001b[0m     \u001b[38;5;28;01mif\u001b[39;00m no_reauth:\n",
      "File \u001b[1;32m~\\AppData\\Local\\Packages\\PythonSoftwareFoundation.Python.3.11_qbz5n2kfra8p0\\LocalCache\\local-packages\\Python311\\site-packages\\pymongo\\pool.py:932\u001b[0m, in \u001b[0;36mConnection.command\u001b[1;34m(self, dbname, spec, read_preference, codec_options, check, allowable_errors, read_concern, write_concern, parse_write_concern_error, collation, session, client, retryable_write, publish_events, user_fields, exhaust_allowed)\u001b[0m\n\u001b[0;32m    930\u001b[0m     \u001b[38;5;28mself\u001b[39m\u001b[38;5;241m.\u001b[39m_raise_if_not_writable(unacknowledged)\n\u001b[0;32m    931\u001b[0m \u001b[38;5;28;01mtry\u001b[39;00m:\n\u001b[1;32m--> 932\u001b[0m     \u001b[38;5;28;01mreturn\u001b[39;00m \u001b[43mcommand\u001b[49m\u001b[43m(\u001b[49m\n\u001b[0;32m    933\u001b[0m \u001b[43m        \u001b[49m\u001b[38;5;28;43mself\u001b[39;49m\u001b[43m,\u001b[49m\n\u001b[0;32m    934\u001b[0m \u001b[43m        \u001b[49m\u001b[43mdbname\u001b[49m\u001b[43m,\u001b[49m\n\u001b[0;32m    935\u001b[0m \u001b[43m        \u001b[49m\u001b[43mspec\u001b[49m\u001b[43m,\u001b[49m\n\u001b[0;32m    936\u001b[0m \u001b[43m        \u001b[49m\u001b[38;5;28;43mself\u001b[39;49m\u001b[38;5;241;43m.\u001b[39;49m\u001b[43mis_mongos\u001b[49m\u001b[43m,\u001b[49m\n\u001b[0;32m    937\u001b[0m \u001b[43m        \u001b[49m\u001b[43mread_preference\u001b[49m\u001b[43m,\u001b[49m\n\u001b[0;32m    938\u001b[0m \u001b[43m        \u001b[49m\u001b[43mcodec_options\u001b[49m\u001b[43m,\u001b[49m\n\u001b[0;32m    939\u001b[0m \u001b[43m        \u001b[49m\u001b[43msession\u001b[49m\u001b[43m,\u001b[49m\n\u001b[0;32m    940\u001b[0m \u001b[43m        \u001b[49m\u001b[43mclient\u001b[49m\u001b[43m,\u001b[49m\n\u001b[0;32m    941\u001b[0m \u001b[43m        \u001b[49m\u001b[43mcheck\u001b[49m\u001b[43m,\u001b[49m\n\u001b[0;32m    942\u001b[0m \u001b[43m        \u001b[49m\u001b[43mallowable_errors\u001b[49m\u001b[43m,\u001b[49m\n\u001b[0;32m    943\u001b[0m \u001b[43m        \u001b[49m\u001b[38;5;28;43mself\u001b[39;49m\u001b[38;5;241;43m.\u001b[39;49m\u001b[43maddress\u001b[49m\u001b[43m,\u001b[49m\n\u001b[0;32m    944\u001b[0m \u001b[43m        \u001b[49m\u001b[43mlisteners\u001b[49m\u001b[43m,\u001b[49m\n\u001b[0;32m    945\u001b[0m \u001b[43m        \u001b[49m\u001b[38;5;28;43mself\u001b[39;49m\u001b[38;5;241;43m.\u001b[39;49m\u001b[43mmax_bson_size\u001b[49m\u001b[43m,\u001b[49m\n\u001b[0;32m    946\u001b[0m \u001b[43m        \u001b[49m\u001b[43mread_concern\u001b[49m\u001b[43m,\u001b[49m\n\u001b[0;32m    947\u001b[0m \u001b[43m        \u001b[49m\u001b[43mparse_write_concern_error\u001b[49m\u001b[38;5;241;43m=\u001b[39;49m\u001b[43mparse_write_concern_error\u001b[49m\u001b[43m,\u001b[49m\n\u001b[0;32m    948\u001b[0m \u001b[43m        \u001b[49m\u001b[43mcollation\u001b[49m\u001b[38;5;241;43m=\u001b[39;49m\u001b[43mcollation\u001b[49m\u001b[43m,\u001b[49m\n\u001b[0;32m    949\u001b[0m \u001b[43m        \u001b[49m\u001b[43mcompression_ctx\u001b[49m\u001b[38;5;241;43m=\u001b[39;49m\u001b[38;5;28;43mself\u001b[39;49m\u001b[38;5;241;43m.\u001b[39;49m\u001b[43mcompression_context\u001b[49m\u001b[43m,\u001b[49m\n\u001b[0;32m    950\u001b[0m \u001b[43m        \u001b[49m\u001b[43muse_op_msg\u001b[49m\u001b[38;5;241;43m=\u001b[39;49m\u001b[38;5;28;43mself\u001b[39;49m\u001b[38;5;241;43m.\u001b[39;49m\u001b[43mop_msg_enabled\u001b[49m\u001b[43m,\u001b[49m\n\u001b[0;32m    951\u001b[0m \u001b[43m        \u001b[49m\u001b[43munacknowledged\u001b[49m\u001b[38;5;241;43m=\u001b[39;49m\u001b[43munacknowledged\u001b[49m\u001b[43m,\u001b[49m\n\u001b[0;32m    952\u001b[0m \u001b[43m        \u001b[49m\u001b[43muser_fields\u001b[49m\u001b[38;5;241;43m=\u001b[39;49m\u001b[43muser_fields\u001b[49m\u001b[43m,\u001b[49m\n\u001b[0;32m    953\u001b[0m \u001b[43m        \u001b[49m\u001b[43mexhaust_allowed\u001b[49m\u001b[38;5;241;43m=\u001b[39;49m\u001b[43mexhaust_allowed\u001b[49m\u001b[43m,\u001b[49m\n\u001b[0;32m    954\u001b[0m \u001b[43m        \u001b[49m\u001b[43mwrite_concern\u001b[49m\u001b[38;5;241;43m=\u001b[39;49m\u001b[43mwrite_concern\u001b[49m\u001b[43m,\u001b[49m\n\u001b[0;32m    955\u001b[0m \u001b[43m    \u001b[49m\u001b[43m)\u001b[49m\n\u001b[0;32m    956\u001b[0m \u001b[38;5;28;01mexcept\u001b[39;00m (OperationFailure, NotPrimaryError):\n\u001b[0;32m    957\u001b[0m     \u001b[38;5;28;01mraise\u001b[39;00m\n",
      "File \u001b[1;32m~\\AppData\\Local\\Packages\\PythonSoftwareFoundation.Python.3.11_qbz5n2kfra8p0\\LocalCache\\local-packages\\Python311\\site-packages\\pymongo\\network.py:191\u001b[0m, in \u001b[0;36mcommand\u001b[1;34m(conn, dbname, spec, is_mongos, read_preference, codec_options, session, client, check, allowable_errors, address, listeners, max_bson_size, read_concern, parse_write_concern_error, collation, compression_ctx, use_op_msg, unacknowledged, user_fields, exhaust_allowed, write_concern)\u001b[0m\n\u001b[0;32m    189\u001b[0m             client\u001b[38;5;241m.\u001b[39m_process_response(response_doc, session)\n\u001b[0;32m    190\u001b[0m         \u001b[38;5;28;01mif\u001b[39;00m check:\n\u001b[1;32m--> 191\u001b[0m             \u001b[43mhelpers\u001b[49m\u001b[38;5;241;43m.\u001b[39;49m\u001b[43m_check_command_response\u001b[49m\u001b[43m(\u001b[49m\n\u001b[0;32m    192\u001b[0m \u001b[43m                \u001b[49m\u001b[43mresponse_doc\u001b[49m\u001b[43m,\u001b[49m\n\u001b[0;32m    193\u001b[0m \u001b[43m                \u001b[49m\u001b[43mconn\u001b[49m\u001b[38;5;241;43m.\u001b[39;49m\u001b[43mmax_wire_version\u001b[49m\u001b[43m,\u001b[49m\n\u001b[0;32m    194\u001b[0m \u001b[43m                \u001b[49m\u001b[43mallowable_errors\u001b[49m\u001b[43m,\u001b[49m\n\u001b[0;32m    195\u001b[0m \u001b[43m                \u001b[49m\u001b[43mparse_write_concern_error\u001b[49m\u001b[38;5;241;43m=\u001b[39;49m\u001b[43mparse_write_concern_error\u001b[49m\u001b[43m,\u001b[49m\n\u001b[0;32m    196\u001b[0m \u001b[43m            \u001b[49m\u001b[43m)\u001b[49m\n\u001b[0;32m    197\u001b[0m \u001b[38;5;28;01mexcept\u001b[39;00m \u001b[38;5;167;01mException\u001b[39;00m \u001b[38;5;28;01mas\u001b[39;00m exc:\n\u001b[0;32m    198\u001b[0m     \u001b[38;5;28;01mif\u001b[39;00m publish:\n",
      "File \u001b[1;32m~\\AppData\\Local\\Packages\\PythonSoftwareFoundation.Python.3.11_qbz5n2kfra8p0\\LocalCache\\local-packages\\Python311\\site-packages\\pymongo\\helpers.py:223\u001b[0m, in \u001b[0;36m_check_command_response\u001b[1;34m(response, max_wire_version, allowable_errors, parse_write_concern_error)\u001b[0m\n\u001b[0;32m    220\u001b[0m \u001b[38;5;28;01melif\u001b[39;00m code \u001b[38;5;241m==\u001b[39m \u001b[38;5;241m43\u001b[39m:\n\u001b[0;32m    221\u001b[0m     \u001b[38;5;28;01mraise\u001b[39;00m CursorNotFound(errmsg, code, response, max_wire_version)\n\u001b[1;32m--> 223\u001b[0m \u001b[38;5;28;01mraise\u001b[39;00m OperationFailure(errmsg, code, response, max_wire_version)\n",
      "\u001b[1;31mOperationFailure\u001b[0m: hnsw index is not supported yet, full error: {'ok': 0.0, 'errmsg': 'hnsw index is not supported yet', 'code': 115, 'codeName': 'CommandNotSupported'}"
     ]
    }
   ],
   "source": [
    "db.command(\n",
    "{ \n",
    "    \"createIndexes\": \"ExampleCollection\",\n",
    "    \"indexes\": [\n",
    "        {\n",
    "            \"name\": \"VectorSearchIndex\",\n",
    "            \"key\": {\n",
    "                \"contentVector\": \"cosmosSearch\"\n",
    "            },\n",
    "            \"cosmosSearchOptions\": { \n",
    "                \"kind\": \"vector-hnsw\", \n",
    "                \"m\": 16, # default value \n",
    "                \"efConstruction\": 64, # default value \n",
    "                \"similarity\": \"COS\", \n",
    "                \"dimensions\": 1536\n",
    "            } \n",
    "        } \n",
    "    ] \n",
    "}\n",
    ")"
   ]
  },
  {
   "cell_type": "markdown",
   "metadata": {},
   "source": [
    "## Upload data to the collection\n",
    "A simple `insert_many()` to insert our data in JSON format into the newly created DB and collection."
   ]
  },
  {
   "cell_type": "code",
   "execution_count": 7,
   "metadata": {},
   "outputs": [
    {
     "name": "stdout",
     "output_type": "stream",
     "text": [
      "Number of data points added: 300\n"
     ]
    }
   ],
   "source": [
    "data_file = open(file=\"./data/shoes_with_vectors.json\", mode=\"r\") \n",
    "data = json.load(data_file)\n",
    "data_file.close()\n",
    "\n",
    "result = collection.insert_many(data)\n",
    "\n",
    "print(f\"Number of data points added: {len(result.inserted_ids)}\")"
   ]
  },
  {
   "cell_type": "markdown",
   "metadata": {},
   "source": [
    "# Vector Search in Cosmos DB for MongoDB vCore"
   ]
  },
  {
   "cell_type": "code",
   "execution_count": 8,
   "metadata": {},
   "outputs": [],
   "source": [
    "# Function to assist with vector search\n",
    "def vector_search(query, num_results=3):\n",
    "    \n",
    "    query_vector = generate_embeddings(query)\n",
    "\n",
    "    embeddings_list = []\n",
    "    pipeline = [\n",
    "        {\n",
    "            '$search': {\n",
    "                \"cosmosSearch\": {\n",
    "                    \"vector\": query_vector,\n",
    "                    \"numLists\": 1,\n",
    "                    \"path\": \"contentVector\",\n",
    "                    \"k\": num_results\n",
    "                },\n",
    "                \"returnStoredSource\": True }},\n",
    "        {'$project': { 'similarityScore': { '$meta': 'searchScore' }, 'document' : '$$ROOT' } }\n",
    "    ]\n",
    "    results = collection.aggregate(pipeline)\n",
    "    return results"
   ]
  },
  {
   "cell_type": "markdown",
   "metadata": {},
   "source": [
    "## Perform vector search query"
   ]
  },
  {
   "cell_type": "code",
   "execution_count": 9,
   "metadata": {},
   "outputs": [
    {
     "name": "stdout",
     "output_type": "stream",
     "text": [
      "\n",
      "Results:\n",
      "\n",
      "Similarity Score: 0.8336247653551396\n",
      "Title: Nature Breeze Rainforest Women's Stylish Buckle Strap Winter Rain Boot Shoes\n",
      "Price: 57.98\n",
      "Material: None\n",
      "Image: https://ignitedemotorage.z5.web.core.windows.net/images/37.png\n",
      "Purchase: https://www.kohls.com/product/prd-4675970/columbia-womens-crestwood-mid-waterproof.jsp?skuid=37797153&ci_mcc=ci&utm_campaign=WOMENS%20CASUAL%20SHOES&utm_medium=CSE&utm_source=bing&CID=shopping20&utm_campaignid=470254723&utm_adgroupid=1238051084185804&gclid=4e558534c2561628ce7ee09ca4a8f995&gclsrc=3p.ds&msclkid=4e558534c2561628ce7ee09ca4a8f995\n",
      "\n",
      "Similarity Score: 0.8329114913940489\n",
      "Title: Columbia Women's Redmond Mid Waterproof Hiking Shoes\n",
      "Price: 95\n",
      "Material: None\n",
      "Image: https://ignitedemotorage.z5.web.core.windows.net/images/249.png\n",
      "Purchase: https://www.kohls.com/product/prd-4675970/columbia-womens-crestwood-mid-waterproof.jsp?skuid=37797153&ci_mcc=ci&utm_campaign=WOMENS%20CASUAL%20SHOES&utm_medium=CSE&utm_source=bing&CID=shopping20&utm_campaignid=470254723&utm_adgroupid=1238051084185804&gclid=4e558534c2561628ce7ee09ca4a8f995&gclsrc=3p.ds&msclkid=4e558534c2561628ce7ee09ca4a8f995\n",
      "\n",
      "Similarity Score: 0.8275763803538428\n",
      "Title: Easy Spirit Womens Murano Suede Square Toe Ankle Fashion Boots, Brown, Size 9.0\n",
      "Price: 56.99\n",
      "Material: None\n",
      "Image: https://ignitedemotorage.z5.web.core.windows.net/images/139.png\n",
      "Purchase: https://www.kohls.com/product/prd-4675970/columbia-womens-crestwood-mid-waterproof.jsp?skuid=37797153&ci_mcc=ci&utm_campaign=WOMENS%20CASUAL%20SHOES&utm_medium=CSE&utm_source=bing&CID=shopping20&utm_campaignid=470254723&utm_adgroupid=1238051084185804&gclid=4e558534c2561628ce7ee09ca4a8f995&gclsrc=3p.ds&msclkid=4e558534c2561628ce7ee09ca4a8f995\n",
      "\n"
     ]
    }
   ],
   "source": [
    "query = \"Shoes for Seattle sweater weather\"\n",
    "results = vector_search(query, 3)\n",
    "\n",
    "print(\"\\nResults:\\n\")\n",
    "for result in results: \n",
    "    print(f\"Similarity Score: {result['similarityScore']}\")  \n",
    "    print(f\"Title: {result['document']['name']}\")  \n",
    "    print(f\"Price: {result['document']['price']}\")  \n",
    "    print(f\"Material: {result['document']['material']}\") \n",
    "    print(f\"Image: {result['document']['img_url']}\") \n",
    "    print(f\"Purchase: {result['document']['purchase_url']}\\n\")"
   ]
  },
  {
   "cell_type": "markdown",
   "metadata": {},
   "source": [
    "# Q&A over the data with GPT-3.5\n",
    "\n",
    "Finally, we'll create a helper function to feed prompts into the `Completions` model. Then we'll create interactive loop where you can pose questions to the model and receive information grounded in your data."
   ]
  },
  {
   "cell_type": "code",
   "execution_count": null,
   "metadata": {},
   "outputs": [],
   "source": [
    "#This function helps to ground the model with prompts and system instructions.\n",
    "\n",
    "def generate_completion(prompt):\n",
    "    system_prompt = '''\n",
    "    You are an intelligent assistant for Microsoft Shoe store.\n",
    "    You are designed to provide helpful answers to user questions about Azure services given the information about to be provided.\n",
    "        - Only answer questions related to the information provided below, provide 3 clear suggestions in a list format.\n",
    "        - Write two lines of whitespace between each answer in the list.\n",
    "        - If you're unsure of an answer, you can say \"\"I don't know\"\" or \"\"I'm not sure\"\" and recommend users search themselves.\"\n",
    "    '''\n",
    "\n",
    "    messages=[\n",
    "        {\"role\": \"system\", \"content\": system_prompt},\n",
    "        {\"role\": \"user\", \"content\": user_input},\n",
    "    ]\n",
    "\n",
    "    for item in results:\n",
    "        messages.append({\"role\": \"system\", \"content\": prompt['content']})\n",
    "\n",
    "    response = client.chat.completions.create(\n",
    "        model=\"gpt-4\",\n",
    "        messages=messages\n",
    "    )\n",
    "    \n",
    "    return response"
   ]
  },
  {
   "cell_type": "code",
   "execution_count": null,
   "metadata": {},
   "outputs": [],
   "source": [
    "# Create a loop of user input and model output. You can now perform Q&A over the sample data!\n",
    "\n",
    "user_input = \"\"\n",
    "print(\"*** Please ask your model questions about Shoes. Type 'end' to end the session.\\n\")\n",
    "user_input = input(\"Prompt: \")\n",
    "while user_input.lower() != \"end\":\n",
    "    results_for_prompt = vector_search(user_input)\n",
    "   # print(f\"User Prompt: {user_input}\")\n",
    "    completions_results = generate_completion(results_for_prompt)\n",
    "    print(\"\\n\")\n",
    "    print(completions_results['choices'][0]['message']['content'])\n",
    "    user_input = input(\"Prompt: \")\n"
   ]
  },
  {
   "cell_type": "markdown",
   "metadata": {},
   "source": [
    "# Generating Ad content with GPT-4 \n",
    "\n",
    "Finally, we put it all together by creating an ad caption and an ad image via the `Completions` API and `DALL.E 3` API, and combine that with the vector search results."
   ]
  },
  {
   "cell_type": "code",
   "execution_count": 12,
   "metadata": {},
   "outputs": [],
   "source": [
    "from openai import OpenAI\n",
    "\n",
    "def generate_ad_title(ad_topic):\n",
    "    system_prompt = '''\n",
    "    You are, Heelie, an intelligent assistant for generating witty and cativating tagline for online advertisement.\n",
    "        - The ad campaign taglines that you generate are short and typically under 100 characters.\n",
    "    '''\n",
    "\n",
    "    user_prompt = f'''Generate a catchy, witty, and short sentence (less than 100 characters) \n",
    "                    for an advertisement for selling shoes for {ad_topic}'''\n",
    "    messages=[\n",
    "        {\"role\": \"system\", \"content\": system_prompt},\n",
    "        {\"role\": \"user\", \"content\": user_prompt},\n",
    "    ]\n",
    "\n",
    "    response = client.chat.completions.create(\n",
    "        model=\"gpt-4\",\n",
    "        messages=messages\n",
    "    )\n",
    "    \n",
    "    return response.choices[0].message.content\n",
    "\n",
    "def Generate_ad_image(ad_topic):\n",
    "    daliClient = OpenAI(\n",
    "        api_key=config['dali_api_key']\n",
    "    )\n",
    "\n",
    "    image_prompt = f'''\n",
    "        Generate a photorealistic image of an ad campaign for selling {ad_topic}. \n",
    "        The image should be clean, with the item being sold in the foreground with an easily identifiable landmark of the city in the background.\n",
    "        The image should also try to depict the weather of the location for the time of the year mentioned.\n",
    "        The image should not have any generated text overlay.\n",
    "    '''\n",
    "\n",
    "    response = daliClient.images.generate(\n",
    "        model=\"dall-e-3\",\n",
    "        prompt= image_prompt,\n",
    "        size=\"1024x1024\",\n",
    "        quality=\"standard\",\n",
    "        n=1,\n",
    "        )\n",
    "\n",
    "    return response.data[0].url\n",
    "\n",
    "def render_html_page(ad_topic):\n",
    "\n",
    "    # Find the matching shoes from the inventory\n",
    "    results = vector_search(ad_topic, 4)\n",
    "    \n",
    "    ad_header = generate_ad_title(ad_topic)\n",
    "    #ad_image_url = Generate_ad_image(ad_topic)\n",
    "\n",
    "\n",
    "    with open('./data/ad-start.html', 'r', encoding='utf-8') as html_file:\n",
    "        html_content = html_file.read()\n",
    "\n",
    "    html_content += f'''<header>\n",
    "            <h2>{ad_header}</h1>\n",
    "        </header>'''    \n",
    "\n",
    "    # html_content += f'''\n",
    "    #         <section class=\"ad\">\n",
    "    #         <img src=\"{ad_image_url}\" alt=\"Base Ad Image\" class=\"ad-image\">\n",
    "    #     </section>'''\n",
    "\n",
    "    for result in results: \n",
    "        html_content += f''' \n",
    "        <section class=\"product\">\n",
    "            <img src=\"{result['document']['img_url']}\" alt=\"{result['document']['name']}\" class=\"product-image\">\n",
    "            <div class=\"product-details\">\n",
    "                <h3 class=\"product-title\" color=\"gray\">{result['document']['name']}</h2>\n",
    "                <p class=\"product-price\">{\"$\"+str(result['document']['price'])}</p>\n",
    "                <p class=\"product-description\">{result['document']['description']}</p>\n",
    "                <a href=\"{result['document']['purchase_url']}\" class=\"buy-now-button\">Buy Now</a>\n",
    "            </div>\n",
    "        </section>\n",
    "        '''\n",
    "\n",
    "    html_content += '''</article>\n",
    "                    </body>\n",
    "                    </html>'''\n",
    "\n",
    "    return html_content"
   ]
  },
  {
   "cell_type": "markdown",
   "metadata": {},
   "source": [
    "# Putting it all together"
   ]
  },
  {
   "cell_type": "code",
   "execution_count": 13,
   "metadata": {},
   "outputs": [
    {
     "name": "stdout",
     "output_type": "stream",
     "text": [
      "Running on local URL:  http://127.0.0.1:7861\n",
      "\n",
      "To create a public link, set `share=True` in `launch()`.\n"
     ]
    },
    {
     "data": {
      "text/html": [
       "<div><iframe src=\"http://127.0.0.1:7861/\" width=\"100%\" height=\"500\" allow=\"autoplay; camera; microphone; clipboard-read; clipboard-write;\" frameborder=\"0\" allowfullscreen></iframe></div>"
      ],
      "text/plain": [
       "<IPython.core.display.HTML object>"
      ]
     },
     "metadata": {},
     "output_type": "display_data"
    }
   ],
   "source": [
    "import gradio as gr\n",
    "\n",
    "css = \"\"\"\n",
    "    button { background-color: purple; color: read; }\n",
    "    <style>\n",
    "    </style>\n",
    "\"\"\"\n",
    "\n",
    "with gr.Blocks(css=css, theme=gr.themes.Default(spacing_size=gr.themes.sizes.spacing_sm, radius_size=\"none\")) as demo:\n",
    "    subject = gr.Textbox(placeholder=\"Ad Keywords\", label=\"Prompt for Heelie!!\")\n",
    "    btn = gr.Button(\"Generate Ad\")\n",
    "    output_html = gr.HTML(label=\"Generated Ad HTML\")\n",
    "\n",
    "    btn.click(render_html_page, [subject], output_html)\n",
    "\n",
    "    btn = gr.Button(\"Copy HTML\")\n",
    "\n",
    "if __name__ == \"__main__\":\n",
    "    demo.launch()   "
   ]
  }
 ],
 "metadata": {
  "kernelspec": {
   "display_name": "Python 3 (ipykernel)",
   "language": "python",
   "name": "python3"
  },
  "language_info": {
   "codemirror_mode": {
    "name": "ipython",
    "version": 3
   },
   "file_extension": ".py",
   "mimetype": "text/x-python",
   "name": "python",
   "nbconvert_exporter": "python",
   "pygments_lexer": "ipython3",
   "version": "3.11.9"
  },
  "varInspector": {
   "cols": {
    "lenName": 16,
    "lenType": 16,
    "lenVar": 40
   },
   "kernels_config": {
    "python": {
     "delete_cmd_postfix": "",
     "delete_cmd_prefix": "del ",
     "library": "var_list.py",
     "varRefreshCmd": "print(var_dic_list())"
    },
    "r": {
     "delete_cmd_postfix": ") ",
     "delete_cmd_prefix": "rm(",
     "library": "var_list.r",
     "varRefreshCmd": "cat(var_dic_list()) "
    }
   },
   "types_to_exclude": [
    "module",
    "function",
    "builtin_function_or_method",
    "instance",
    "_Feature"
   ],
   "window_display": false
  }
 },
 "nbformat": 4,
 "nbformat_minor": 2
}
